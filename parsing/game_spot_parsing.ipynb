{
 "cells": [
  {
   "cell_type": "code",
   "execution_count": 2,
   "metadata": {
    "collapsed": true,
    "pycharm": {
     "name": "#%%\n"
    }
   },
   "outputs": [],
   "source": [
    "import requests\n",
    "import json\n",
    "from bs4 import BeautifulSoup as bs\n",
    "from api.iterating_api import generator_over_review\n",
    "from api.parsers_api import parse_GameSpot, headers, HTTP_error"
   ]
  },
  {
   "cell_type": "code",
   "execution_count": null,
   "outputs": [],
   "source": [
    "status"
   ],
   "metadata": {
    "collapsed": false,
    "pycharm": {
     "name": "#%%\n"
    }
   }
  },
  {
   "cell_type": "code",
   "execution_count": 49,
   "outputs": [],
   "source": [
    "\n",
    "url_404 = \"http://www.gamespot.com/pc/strategy/dominions3/review.html?sid=6163352\"\n",
    "data_path = \"/Users/fedor/Desktop/meta_project/data/metacritic/critic_review\"\n",
    "logs_path = \"/Users/fedor/Desktop/meta_project/data/metacritic/logs/logs_1.txt\"\n",
    "save_path = \"/Users/fedor/Desktop/meta_project/data/metacritic/outter_critic_review/\"\n"
   ],
   "metadata": {
    "collapsed": false,
    "pycharm": {
     "name": "#%%\n"
    }
   }
  },
  {
   "cell_type": "code",
   "execution_count": 52,
   "outputs": [
    {
     "name": "stdout",
     "output_type": "stream",
     "text": [
      "Do you want to delete pld logs? Enter + if so\n"
     ]
    }
   ],
   "source": [
    "def my_predicate(d):\n",
    "    return d[\"name\"] == \"GameSpot\"\n",
    "\n",
    "\n",
    "a = generator_over_review(data_path,\n",
    "                          # game_search_list=['INSIDE'],\n",
    "                          # platform_search_list=[\"pc\"],\n",
    "                          review_predicate = my_predicate,\n",
    "                          add_info=False)\n",
    "COUNTER = 0\n",
    "\n",
    "print(\"Do you want to delete pld logs? Enter + if so\")\n",
    "if input() == \"+\":\n",
    "    open(logs_path, 'w').close() #clean up logs file\n",
    "    print(\"-log file cleaned up\")\n",
    "\n",
    "with open(logs_path, \"a\") as log_file:\n",
    "\n",
    "    for rev in a:\n",
    "        COUNTER += 1\n",
    "        if COUNTER < 2036:\n",
    "            continue\n",
    "        if not rev['ref']:\n",
    "            continue\n",
    "        try:\n",
    "            parse_GameSpot(rev['ref'],save_path = save_path + str(COUNTER)+\".json\", json_save = True)\n",
    "\n",
    "        except HTTP_error as e:\n",
    "\n",
    "            if e.status_code == 404:\n",
    "                log_file.write(\"404 \"+e.link + \"\\n\")\n",
    "            elif e.status_code == 0:\n",
    "                log_file.write(\"000 \" + e.link + \"\\n\")\n",
    "            else:\n",
    "                log_file.write(str(e.status_code) + \" \" + e.link + \"\\n\")\n",
    "\n",
    "        except requests.ConnectionError or requests.HTTPError or requests.exceptions.RequestException or requests.exceptions.MissingSchema:\n",
    "            # print(\"Inner error of Requests lib\", rev['ref'])\n",
    "            log_file.write(\"INN \" + rev['ref'] + \"\\n\")\n",
    "\n",
    "        except ... :\n",
    "            log_file.write(\"VBL \" + rev['ref'] + \"\\n\")\n",
    "            # print(\"Very broken link\", rev['ref'])"
   ],
   "metadata": {
    "collapsed": false,
    "pycharm": {
     "name": "#%%\n"
    }
   }
  },
  {
   "cell_type": "code",
   "execution_count": 55,
   "outputs": [
    {
     "name": "stdout",
     "output_type": "stream",
     "text": [
      "\n"
     ]
    }
   ],
   "source": [
    "# error analysis\n",
    "er_dict = {}\n",
    "print()\n",
    "with open(logs_path, \"r\") as log_file:\n",
    "    for line in log_file.readlines():\n",
    "        er_code = line[:3]\n",
    "        if er_code not in er_dict.keys():\n",
    "            er_dict[er_code] = 1\n",
    "        else:\n",
    "            er_dict[er_code] += 1"
   ],
   "metadata": {
    "collapsed": false,
    "pycharm": {
     "name": "#%%\n"
    }
   }
  },
  {
   "cell_type": "code",
   "execution_count": 56,
   "outputs": [
    {
     "data": {
      "text/plain": "{'404': 3725, '500': 742, '000': 232, 'INN': 306, '502': 13}"
     },
     "execution_count": 56,
     "metadata": {},
     "output_type": "execute_result"
    }
   ],
   "source": [
    "er_dict #total amount of our data - 10849"
   ],
   "metadata": {
    "collapsed": false,
    "pycharm": {
     "name": "#%%\n"
    }
   }
  },
  {
   "cell_type": "code",
   "execution_count": null,
   "outputs": [],
   "source": [],
   "metadata": {
    "collapsed": false,
    "pycharm": {
     "name": "#%%\n"
    }
   }
  }
 ],
 "metadata": {
  "kernelspec": {
   "display_name": "Python 3",
   "language": "python",
   "name": "python3"
  },
  "language_info": {
   "codemirror_mode": {
    "name": "ipython",
    "version": 2
   },
   "file_extension": ".py",
   "mimetype": "text/x-python",
   "name": "python",
   "nbconvert_exporter": "python",
   "pygments_lexer": "ipython2",
   "version": "2.7.6"
  }
 },
 "nbformat": 4,
 "nbformat_minor": 0
}