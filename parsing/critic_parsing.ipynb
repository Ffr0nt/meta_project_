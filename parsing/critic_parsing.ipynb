{
 "cells": [
  {
   "cell_type": "code",
   "execution_count": 1,
   "metadata": {
    "collapsed": true,
    "pycharm": {
     "name": "#%%\n"
    }
   },
   "outputs": [],
   "source": [
    "import requests\n",
    "from bs4 import BeautifulSoup as bs\n",
    "# import pandas as pd\n",
    "import json\n",
    "import tqdm\n",
    "from os import mkdir\n",
    "from os.path import join\n",
    "from shutil import rmtree"
   ]
  },
  {
   "cell_type": "markdown",
   "source": [],
   "metadata": {
    "collapsed": false,
    "pycharm": {
     "name": "#%% md\n"
    }
   }
  },
  {
   "cell_type": "code",
   "execution_count": 2,
   "outputs": [],
   "source": [
    "headers = {\n",
    "    'Accept-Encoding': 'gzip, deflate, sdch',\n",
    "    'Accept-Language': 'en-US,en;q=0.8',\n",
    "    'Upgrade-Insecure-Requests': '1',\n",
    "    'User-Agent': 'Mozilla/5.0 (X11; Linux x86_64) AppleWebKit/537.36 (KHTML, like Gecko) Chrome/56.0.2924.87 Safari/537.36',\n",
    "    'Accept': 'text/html,application/xhtml+xml,application/xml;q=0.9,image/webp,*/*;q=0.8',\n",
    "    'Cache-Control': 'max-age=0',\n",
    "    'Connection': 'keep-alive',\n",
    "}\n",
    "META_PREFICS = \"https://www.metacritic.com\"\n",
    "USER_POSTFICS = \"/user-reviews\"\n",
    "CRITIC_POSTFICS = \"/critic-reviews\"\n",
    "\n",
    "save_path =\"/Users/fedor/Desktop/meta_project/data/metacritic/critic_review/\"\n",
    "strange_game_list = []"
   ],
   "metadata": {
    "collapsed": false,
    "pycharm": {
     "name": "#%%\n"
    }
   }
  },
  {
   "cell_type": "code",
   "execution_count": 105,
   "outputs": [],
   "source": [
    "\n",
    "def parse_critic_page(URL:str,\n",
    "                       local_save_path:str,\n",
    "                       json_save:bool = False):\n",
    "\n",
    "    r = requests.get(URL, headers=headers)\n",
    "    soup = bs(r.text, \"html.parser\")\n",
    "\n",
    "    if soup.find(class_=\"body product_reviews\") is not None:\n",
    "        base = soup.find(class_=\"body product_reviews\")\n",
    "    else:\n",
    "        strange_game_list.append(URL)\n",
    "        return\n",
    "\n",
    "    titels = base.find_all(class_=\"review_content\")\n",
    "    rewiev_count = 0\n",
    "    for t in titels:\n",
    "\n",
    "        name = t.find(class_=\"source\").text\n",
    "        ref =  t.find(class_=\"external\")\n",
    "\n",
    "        if ref is not None:\n",
    "            ref = ref['href']\n",
    "        else:\n",
    "            ref = None\n",
    "\n",
    "        score = t.find(class_=\"review_grade\").div.text\n",
    "        date = t.find(class_=\"date\")\n",
    "\n",
    "        if date is not None:\n",
    "            date = date.text\n",
    "        else:\n",
    "            date = None\n",
    "\n",
    "        text = t.find(class_=\"review_body\").text\n",
    "\n",
    "        if json_save:\n",
    "            with open( local_save_path +f\"/review_{rewiev_count}.json\", 'w') as f:\n",
    "                json.dump({ \"name\": name, \"ref\": ref, \"score\": score,\n",
    "                            \"date\":date, \"text\":text}, f)\n",
    "        else:\n",
    "            return { \"name\": name, \"ref\": ref, \"score\": score, \"date\":date, \"text\":text}\n",
    "        rewiev_count +=1\n"
   ],
   "metadata": {
    "collapsed": false,
    "pycharm": {
     "name": "#%%\n"
    }
   }
  },
  {
   "cell_type": "code",
   "execution_count": 86,
   "outputs": [],
   "source": [
    "games_name_changed = []\n",
    "with open('/Users/fedor/Desktop/meta_project/data/metacritic/url/critic_refs/final_critic_refs.json') as f:\n",
    "    critic_ref = json.load(f)"
   ],
   "metadata": {
    "collapsed": false,
    "pycharm": {
     "name": "#%%\n"
    }
   }
  },
  {
   "cell_type": "code",
   "execution_count": 106,
   "outputs": [],
   "source": [
    "strange_game_list = []"
   ],
   "metadata": {
    "collapsed": false,
    "pycharm": {
     "name": "#%%\n"
    }
   }
  },
  {
   "cell_type": "code",
   "execution_count": 132,
   "outputs": [],
   "source": [
    "actual_start_pos = 5005+1129+4095+746"
   ],
   "metadata": {
    "collapsed": false,
    "pycharm": {
     "name": "#%%\n"
    }
   }
  },
  {
   "cell_type": "code",
   "execution_count": 134,
   "outputs": [
    {
     "name": "stderr",
     "output_type": "stream",
     "text": [
      "100%|██████████| 1952/1952 [59:30<00:00,  1.83s/it] \n"
     ]
    }
   ],
   "source": [
    "loc_path = save_path\n",
    "for game_name in tqdm.tqdm(list(critic_ref.keys())[actual_start_pos : ]):\n",
    "    safe_game_name = game_name.replace(\"/\",\"_\")\n",
    "\n",
    "    if safe_game_name != game_name:\n",
    "        games_name_changed.append(game_name)\n",
    "\n",
    "    try:\n",
    "        mkdir( loc_path + safe_game_name )\n",
    "    except FileExistsError:\n",
    "        rmtree(join(loc_path + safe_game_name))\n",
    "        mkdir(loc_path + safe_game_name)\n",
    "\n",
    "\n",
    "    for platform in critic_ref[game_name]:\n",
    "        if platform == \"iPhone/iPad\":\n",
    "            safe_platform = \"iPhone_iPad\"\n",
    "        else:\n",
    "            safe_platform = platform\n",
    "\n",
    "        mkdir(loc_path+safe_game_name+\"/\"+safe_platform)\n",
    "\n",
    "        game_link = critic_ref[game_name][platform]\n",
    "        parse_critic_page(game_link\n",
    "                          ,loc_path + safe_game_name + \"/\" + safe_platform\n",
    "                          , True)\n",
    "\n"
   ],
   "metadata": {
    "collapsed": false,
    "pycharm": {
     "name": "#%%\n"
    }
   }
  },
  {
   "cell_type": "markdown",
   "source": [
    "## Аналитика полученных результатов"
   ],
   "metadata": {
    "collapsed": false,
    "pycharm": {
     "name": "#%% md\n"
    }
   }
  },
  {
   "cell_type": "code",
   "execution_count": null,
   "outputs": [],
   "source": [
    "critic_names = {}"
   ],
   "metadata": {
    "collapsed": false,
    "pycharm": {
     "name": "#%%\n"
    }
   }
  },
  {
   "cell_type": "markdown",
   "source": [
    "получение списка отзывов на игрв от популярных издательств"
   ],
   "metadata": {
    "collapsed": false,
    "pycharm": {
     "name": "#%% md\n"
    }
   }
  },
  {
   "cell_type": "code",
   "execution_count": 223,
   "outputs": [
    {
     "name": "stderr",
     "output_type": "stream",
     "text": [
      "12899it [03:27, 62.09it/s]\n"
     ]
    }
   ],
   "source": [
    "from pathlib import Path\n",
    "names_game_dict = {}\n",
    "\n",
    "# assign directory\n",
    "directory = \"/Users/fedor/Desktop/meta_project/data/metacritic/critic_review\"\n",
    "\n",
    "# iterate over files in\n",
    "# that directory\n",
    "names = Path(directory).glob('*')\n",
    "for n in tqdm.tqdm(names):\n",
    "    rev = Path(n).glob('*')\n",
    "    for r in rev:\n",
    "        r = Path(r).glob('*')\n",
    "        for _ in r:\n",
    "            with open(_) as f:\n",
    "                templates = json.load(f)\n",
    "                name = templates[\"name\"]\n",
    "                if name in critic_names_list[:35]:\n",
    "                    if name in names_game_dict.keys():\n",
    "                        names_game_dict[name].append(str(n).split(\"/\")[-1])\n",
    "                    else:\n",
    "                        names_game_dict[name] = [str(n).split(\"/\")[-1]]\n",
    "\n"
   ],
   "metadata": {
    "collapsed": false,
    "pycharm": {
     "name": "#%%\n"
    }
   }
  },
  {
   "cell_type": "markdown",
   "source": [
    "ранжирование игр по популярности"
   ],
   "metadata": {
    "collapsed": false,
    "pycharm": {
     "name": "#%% md\n"
    }
   }
  },
  {
   "cell_type": "code",
   "execution_count": 181,
   "outputs": [],
   "source": [
    "critic_names_list = list(critic_names.keys())"
   ],
   "metadata": {
    "collapsed": false,
    "pycharm": {
     "name": "#%%\n"
    }
   }
  },
  {
   "cell_type": "code",
   "execution_count": 186,
   "outputs": [],
   "source": [
    "critic_names_list.sort(key = lambda x:critic_names[x], reverse=True)"
   ],
   "metadata": {
    "collapsed": false,
    "pycharm": {
     "name": "#%%\n"
    }
   }
  },
  {
   "cell_type": "code",
   "execution_count": 241,
   "outputs": [
    {
     "name": "stdout",
     "output_type": "stream",
     "text": [
      "IGN 12106\n",
      "GameSpot 10849\n",
      "Game Informer 6817\n",
      "Multiplayer.it 5622\n",
      "Worth Playing 5617\n",
      "Gaming Age 5599\n",
      "Cheat Code Central 5579\n",
      "Vandal 5447\n",
      "GameZone 5274\n",
      "Game Revolution 4854\n",
      "Everyeye.it 4643\n",
      "SpazioGames 4299\n",
      "Eurogamer 4210\n",
      "GameSpy 4150\n",
      "ZTGD 4145\n",
      "Eurogamer Italy 4097\n",
      "Destructoid 4089\n",
      "GamingTrend 4056\n",
      "3DJuegos 3904\n",
      "GamePro 3788\n",
      "COGconnected 3706\n",
      "Metro GameCentral 3593\n",
      "Games Master UK 3550\n",
      "GamesRadar+ 3543\n",
      "Hardcore Gamer 3462\n",
      "4Players.de 3432\n",
      "God is a Geek 3426\n",
      "Gaming Nexus 3418\n",
      "DarkStation 3393\n",
      "Meristation 3312\n",
      "GameCritics 3300\n",
      "1UP 3286\n",
      "Edge Magazine 3250\n",
      "NintendoWorldReport 3233\n",
      "PC Gamer 3232\n"
     ]
    }
   ],
   "source": [
    "for c in  critic_names_list[:35]:\n",
    "    print(c, critic_names[c])\n"
   ],
   "metadata": {
    "collapsed": false,
    "pycharm": {
     "name": "#%%\n"
    }
   }
  },
  {
   "cell_type": "code",
   "execution_count": 227,
   "outputs": [
    {
     "name": "stdout",
     "output_type": "stream",
     "text": [
      "IGN 12106\n",
      "GameSpot 10849\n",
      "Game Informer 6817\n",
      "Multiplayer.it 5622\n",
      "Worth Playing 5617\n",
      "Gaming Age 5599\n",
      "Cheat Code Central 5579\n",
      "Vandal 5447\n",
      "GameZone 5274\n",
      "Game Revolution 4854\n",
      "Everyeye.it 4643\n",
      "SpazioGames 4299\n",
      "Eurogamer 4210\n",
      "GameSpy 4150\n",
      "ZTGD 4145\n",
      "Eurogamer Italy 4097\n",
      "Destructoid 4089\n",
      "GamingTrend 4056\n",
      "3DJuegos 3904\n",
      "GamePro 3788\n"
     ]
    }
   ],
   "source": [
    "for c in  critic_names_list[:20]:\n",
    "    print(c, critic_names[c])"
   ],
   "metadata": {
    "collapsed": false,
    "pycharm": {
     "name": "#%%\n"
    }
   }
  },
  {
   "cell_type": "markdown",
   "source": [
    "покрытие раличных тайтлов игр при рассмотрении критики различного количества игровых издательств"
   ],
   "metadata": {
    "collapsed": false,
    "pycharm": {
     "name": "#%% md\n"
    }
   }
  },
  {
   "cell_type": "code",
   "execution_count": 238,
   "outputs": [
    {
     "name": "stdout",
     "output_type": "stream",
     "text": [
      "5 - 11243\n",
      "10 - 11962\n",
      "15 - 12317\n",
      "20 - 12535\n",
      "25 - 12678\n",
      "30 - 12783\n",
      "35 - 12827\n",
      "40 - 12827\n",
      "45 - 12827\n"
     ]
    }
   ],
   "source": [
    "total_games_cover = set()\n",
    "for i in range(5,50,5):\n",
    "    for n in names_game_dict:\n",
    "        if n in critic_names_list[:i]:\n",
    "            for g in names_game_dict[n]:\n",
    "                total_games_cover.add(g)\n",
    "    print(i,\"-\",len(total_games_cover))"
   ],
   "metadata": {
    "collapsed": false,
    "pycharm": {
     "name": "#%%\n"
    }
   }
  },
  {
   "cell_type": "markdown",
   "source": [
    "общее количество отзывов при рассмотрении критики различного количества игровых издательств"
   ],
   "metadata": {
    "collapsed": false,
    "pycharm": {
     "name": "#%% md\n"
    }
   }
  },
  {
   "cell_type": "code",
   "execution_count": 239,
   "outputs": [
    {
     "name": "stdout",
     "output_type": "stream",
     "text": [
      "5 - 41011\n",
      "10 - 67764\n",
      "15 - 89211\n",
      "20 - 109145\n",
      "25 - 126999\n",
      "30 - 143980\n",
      "35 - 160281\n",
      "40 - 175736\n",
      "45 - 190227\n"
     ]
    }
   ],
   "source": [
    "hist = []\n",
    "sum_hist = []\n",
    "for i in range(5,50,5):\n",
    "    sum = 0\n",
    "    for c in  critic_names_list[:i]:\n",
    "        sum += critic_names[c]\n",
    "    print(i, '-',sum)"
   ],
   "metadata": {
    "collapsed": false,
    "pycharm": {
     "name": "#%%\n"
    }
   }
  },
  {
   "cell_type": "code",
   "execution_count": 240,
   "outputs": [
    {
     "data": {
      "text/plain": "['IGN',\n 'GameSpot',\n 'Game Informer',\n 'Multiplayer.it',\n 'Worth Playing',\n 'Gaming Age',\n 'Cheat Code Central',\n 'Vandal',\n 'GameZone',\n 'Game Revolution',\n 'Everyeye.it',\n 'SpazioGames',\n 'Eurogamer',\n 'GameSpy',\n 'ZTGD',\n 'Eurogamer Italy',\n 'Destructoid',\n 'GamingTrend',\n '3DJuegos',\n 'GamePro',\n 'COGconnected',\n 'Metro GameCentral',\n 'Games Master UK',\n 'GamesRadar+',\n 'Hardcore Gamer',\n '4Players.de',\n 'God is a Geek',\n 'Gaming Nexus',\n 'DarkStation',\n 'Meristation',\n 'GameCritics',\n '1UP',\n 'Edge Magazine',\n 'NintendoWorldReport',\n 'PC Gamer']"
     },
     "execution_count": 240,
     "metadata": {},
     "output_type": "execute_result"
    }
   ],
   "source": [
    "critic_names_list[:35]"
   ],
   "metadata": {
    "collapsed": false,
    "pycharm": {
     "name": "#%%\n"
    }
   }
  },
  {
   "cell_type": "code",
   "execution_count": 25,
   "outputs": [
    {
     "name": "stderr",
     "output_type": "stream",
     "text": [
      "803it [00:23, 34.76it/s]\n"
     ]
    }
   ],
   "source": [
    "critic_names_list_35 =['IGN',\n",
    "                    'GameSpot',\n",
    "                    'Game Informer',\n",
    "                    'Multiplayer.it',\n",
    "                    'Worth Playing',\n",
    "                    'Gaming Age',\n",
    "                    'Cheat Code Central',\n",
    "                    'Vandal',\n",
    "                    'GameZone',\n",
    "                    'Game Revolution',\n",
    "                    'Everyeye.it',\n",
    "                    'SpazioGames',\n",
    "                    'Eurogamer',\n",
    "                    'GameSpy',\n",
    "                    'ZTGD',\n",
    "                    'Eurogamer Italy',\n",
    "                    'Destructoid',\n",
    "                    'GamingTrend',\n",
    "                    '3DJuegos',\n",
    "                    'GamePro',\n",
    "                    'COGconnected',\n",
    "                    'Metro GameCentral',\n",
    "                    'Games Master UK',\n",
    "                    'GamesRadar+',\n",
    "                    'Hardcore Gamer',\n",
    "                    '4Players.de',\n",
    "                    'God is a Geek',\n",
    "                    'Gaming Nexus',\n",
    "                    'DarkStation',\n",
    "                    'Meristation',\n",
    "                    'GameCritics',\n",
    "                    '1UP',\n",
    "                    'Edge Magazine',\n",
    "                    'NintendoWorldReport',\n",
    "                    'PC Gamer']\n",
    "\n",
    "from pathlib import Path\n",
    "names_game_dict = {}\n",
    "\n",
    "# assign directory\n",
    "directory = \"/Users/fedor/Desktop/meta_project/data/metacritic/critic_review\"\n",
    "\n",
    "# iterate over files in\n",
    "# that directory\n",
    "names = Path(directory).glob('*')\n",
    "for n in tqdm.tqdm(names):\n",
    "    if len(critic_names_list_35) == 0:\n",
    "        break\n",
    "    rev = Path(n).glob('*')\n",
    "    for r in rev:\n",
    "        r = Path(r).glob('*')\n",
    "        for _ in r:\n",
    "            with open(_) as f:\n",
    "                templates = json.load(f)\n",
    "                name = templates[\"name\"]\n",
    "                if name in critic_names_list_35 and templates[\"ref\"] is not None:\n",
    "                    if name in names_game_dict.keys():\n",
    "                        names_game_dict[name].append(templates[\"ref\"])\n",
    "                    else:\n",
    "                        names_game_dict[name] = [templates[\"ref\"]]\n",
    "\n",
    "                    if len(names_game_dict[name]) == 3:\n",
    "                        critic_names_list_35.remove(name)\n"
   ],
   "metadata": {
    "collapsed": false,
    "pycharm": {
     "name": "#%%\n"
    }
   }
  },
  {
   "cell_type": "code",
   "execution_count": null,
   "outputs": [],
   "source": [],
   "metadata": {
    "collapsed": false,
    "pycharm": {
     "name": "#%%\n"
    }
   }
  },
  {
   "cell_type": "code",
   "execution_count": 41,
   "outputs": [
    {
     "data": {
      "text/plain": "{'Game Revolution': ['https://www.gamerevolution.com/review/488175-kingdom-hearts-3-review-ps4-xbox-one',\n  'http://www.game-revolution.com/games/pc/action/call_of_duty.htm',\n  'http://www.gamerevolution.com/review/xbox360/wwe_smackdown_vs_raw_2008'],\n 'Gaming Nexus': ['https://www.gamingnexus.com/Article/5887/Kingdom-Hearts-3/',\n  'http://www.gamingnexus.com/Article/Democracy-3/Item4344.aspx',\n  'http://www.gamingnexus.com/Review.asp?ID=374'],\n 'Destructoid': ['https://www.destructoid.com/review-kingdom-hearts-iii-540069.phtml',\n  'https://www.destructoid.com/review-valkyrie-drive-bhikkhuni-396320.phtml',\n  'http://www.destructoid.com/review-ratchet-clank-all-4-one-214060.phtml'],\n 'God is a Geek': ['https://www.godisageek.com/reviews/kingdom-hearts-3-review/',\n  'https://www.godisageek.com/reviews/ghostbusters-the-video-game-remastered-review/',\n  'http://www.godisageek.com/reviews/valkyrie-drive-bhikkhuni-review/'],\n 'GameCritics': ['https://gamecritics.com/steven-brown/kingdom-hearts-iii-review/',\n  'https://gamecritics.com/jarrod-johnston/kingdom-hearts-iii-second-opinion/',\n  'https://gamecritics.com/jarrod-johnston/ghostbusters-the-videogame-remastered-review/'],\n 'GamesRadar+': ['https://www.gamesradar.com/kingdom-hearts-3-im-not-sure-how-i-lived-without-its-mickey-mouse-shaped-madness-in-my-life/',\n  'http://www.gamesradar.com/ds/chrono-trigger/review/chrono-trigger/a-20081121174852575091/g-20080707171133771014',\n  'http://www.gamesradar.com/ratchet-and-clank-all-4-one-review/'],\n 'Multiplayer.it': ['https://multiplayer.it/recensioni/kingdom-hearts-3-recensione.html',\n  'http://multiplayer.it/recensioni/125855-democracy-3-vi-daro-la-luna.html',\n  'http://multiplayer.it/recensioni/73674-armada-2526-spazio-ultima-frontiera.html'],\n 'Hardcore Gamer': ['https://www.hardcoregamer.com/2019/01/28/review-kingdom-hearts-iii/323549/',\n  'http://www.hardcoregamer.com/2013/11/04/review-democracy-3/60767/',\n  'http://www.hardcoregamer.com/2016/10/28/review-valkyrie-drive-bhikkhuni/232661/'],\n 'SpazioGames': ['https://www.spaziogames.it/kingdom-hearts-3-recensione/',\n  'http://www.spaziogames.it/recensioni_videogiochi/console_multi_piattaforma/9921/call-of-duty-classic.aspx',\n  'http://www.spaziogames.it/recensioni_videogiochi/console_multi_piattaforma/9921/call-of-duty-classic.aspx'],\n 'DarkStation': ['https://www.darkstation.com/reviews/kingdom-hearts-iii-review',\n  'https://www.darkstation.com/reviews/ghostbusters-the-video-game-remastered-review',\n  'http://www.darkstation.com/reviews/valkyrie-drive-bhikkhuni-review'],\n '4Players.de': ['http://www.4players.de/4players.php/dispbericht/PlayStation4Pro/Test/34849/83614/0/Kingdom_Hearts_3.html',\n  'http://www.4players.de/4players.php/dispbericht/PC-CDROM/Test/33972/80239/0/Democracy_3.html',\n  'http://www.4players.de/4players.php/dispbericht/Switch/Test/38595/82430/0/New_Frontier_Days_Founding_Pioneers.html'],\n 'IGN': ['http://www.ign.com/articles/2019/01/24/kingdom-hearts-3-review-ps4-xbox-one  ',\n  'http://www.ign.com/articles/2019/01/24/kingdom-hearts-3-review-ps4-xbox-one  ',\n  'http://cube.ign.com/articles/389/389717p1.html'],\n 'Eurogamer Italy': ['https://www.eurogamer.it/articles/2019-01-24-kingdom-hearts-3-recensione',\n  'https://www.eurogamer.it/articles/2019-11-11-ghostbusters-il-videogioco-remastered-recensione',\n  'http://www.eurogamer.it/articles/videogiochi-ratchet-and-clank-all-4-one-recensione'],\n 'GameSpot': ['https://www.gamespot.com/reviews/kingdom-hearts-3-review-dearly-beloved/1900-6417074/',\n  'http://www.gamespot.com/gamecube/action/wwecrushhour/review.html',\n  'http://www.gamespot.com/ps2/driving/wwecrushhour/review.html'],\n 'Worth Playing': ['https://worthplaying.com/article/2019/1/29/reviews/112665/',\n  'http://www.worthplaying.com/article.php?sid=15246&mode=thread&order=0',\n  'https://worthplaying.com/article/2019/10/17/reviews/116576/'],\n 'Vandal': ['https://vandal.elespanol.com/analisis/ps4/kingdom-hearts-iii/21342/4#p-73',\n  'http://www.vandal.net/analisis/ps3/call-of-duty-classic-psn/11179',\n  'http://www.vandal.net/analisis/x360/call-of-duty-classic-xbla/11178'],\n 'Game Informer': ['https://www.gameinformer.com/review/kingdom-hearts-iii/a-main-attraction-worth-waiting-for',\n  'http://www.gameinformer.com/NR/exeres/DEF15DE0-547E-48B8-AEBD-3BFBEF400C4F.htm',\n  'http://gameinformer.com/NR/exeres/59E6916F-BC13-42BC-BBCB-0BE78ED437FD.htm'],\n '3DJuegos': ['https://www.3djuegos.com/juegos/analisis/8446/0/kingdom-hearts-iii/',\n  'http://www.3djuegos.com/juegos/analisis/4019/0/chrono-trigger/',\n  'http://www.3djuegos.com/juegos/analisis/2498/0/starcraft-2/'],\n 'GamingTrend': ['https://gamingtrend.com/feature/reviews/a-goofy-adventure-kingdom-hearts-iii-review/',\n  'https://gamingtrend.com/feature/reviews/ghostbusters-whaddya-want-ghostbusters-the-game-remastered-review/',\n  'https://gamingtrend.com/feature/reviews/bringing-violence-and-edm-to-the-switch-hotline-miami-collection-review/'],\n 'Meristation': ['https://as.com/meristation/2019/01/29/analisis/1548744057_226550.html',\n  'http://www.meristation.com/pc/democracy-3/analisis-juego/1915521',\n  'http://www.meristation.com/v3/des_analisis.php?id=cw4b1fda5802d2f&pic=360&idj=cw4b17fc14c52aa&idp='],\n 'COGconnected': ['https://cogconnected.com/review/kingdom-hearts-iii-review/',\n  'https://cogconnected.com/review/ghostbusters-game-remastered-review/',\n  'https://cogconnected.com/review/hotline-miami-collection-review-2/'],\n 'Cheat Code Central': ['http://cheatcc.com/ps4/rev/kingdomhearts3review.html',\n  'http://cheatcc.com/ds/rev/chronotriggerreview.html',\n  'http://cheatcc.com/xbox360/rev/smackdownvsraw2008review.html'],\n 'Everyeye.it': ['https://www.everyeye.it/articoli/recensione-kingdom-hearts-3-luci-ombre-del-conflitto-finale-42444.html',\n  'https://www.everyeye.it/articoli/recensione-ghostbusters-videogame-remastered-tornano-acchiappafantasmi-45924.html',\n  'https://www.everyeye.it/articoli/recensione-hotline-miami-collection-killer-nintendo-switch-45106.html'],\n 'Metro GameCentral': ['https://metro.co.uk/2019/01/29/kingdom-hearts-iii-review-mickey-mouse-epic-8408958/',\n  'http://www.teletext.co.uk/gamecentral/features-reviews/5ab9cfd3100beb9ac958e6bbb2405b68/Call+Of+Duty+Classic+%28360%29.aspx',\n  'https://metro.co.uk/2019/10/07/ghostbusters-video-game-remastered-review-bustin-makes-feel-nostalgic-10876532/'],\n 'ZTGD': ['http://www.ztgd.com/reviews/kingdom-hearts-iii-xb1/',\n  'http://www.ztgamedomain.com/9060/Call-of-Duty-Classic.html',\n  'http://www.ztgamedomain.com/9059/Call-of-Duty-Classic.html'],\n 'GameSpy': ['http://www.gamespy.com/reviews/april03/crushhourgcn/',\n  'http://www.gamespy.com/reviews/april03/crushhourps2/',\n  'http://www.gamespy.com/reviews/october03/callofdutypc/'],\n 'Eurogamer': ['http://www.eurogamer.net/article.php?article_id=52531',\n  'http://www.eurogamer.net/article.php?article_id=53681',\n  'http://www.eurogamer.net/articles/call-of-duty-classic-review'],\n 'GamePro': ['http://www.gamepro.com/nintendo/gamecube/games/reviews/28570.shtml',\n  'http://www.gamepro.com/computer/pc/games/reviews/31578.shtml',\n  'http://www.gamepro.com/microsoft/xbox360/games/reviews/147508.shtml'],\n 'GameZone': ['http://gamecube.gamezone.com/gzreviews/r20398.htm',\n  'http://ps2.gamezone.com/gzreviews/r20398.htm',\n  'http://www.gamezone.com/gzreviews/r21872.htm'],\n 'PC Gamer': ['http://www.pcgamer.com/review/democracy-3-review/',\n  'http://www.pcgamer.com/2010/08/11/starcraft-2-review/',\n  'http://www.pcgamer.com/kerbal-space-program-review/'],\n '1UP': ['http://www.1up.com/article2/0,4364,1367554,00.asp',\n  'http://www.1up.com/do/reviewPage?cId=3137776&did=1',\n  'http://www.1up.com/do/reviewPage?cId=3171483&p=39'],\n 'NintendoWorldReport': ['http://www.nintendoworldreport.com/review/51914/ghostbusters-the-video-game-remastered-review',\n  'http://www.nintendoworldreport.com/review/51515/hotline-miami-collection-switch-review',\n  'http://www.nintendoworldreport.com/reviewArt.cfm?artid=17445'],\n 'Gaming Age': ['http://www.gaming-age.com/2019/10/ghostbusters-the-video-game-remastered-review-for-ps4-xbox-one-switch-pc/',\n  'http://www.gaming-age.com/cgi-bin/reviews/review.pl?sys=nds&game=chronotrigger',\n  'http://www.gaming-age.com/cgi-bin/reviews/review.pl?sys=wii&game=svr08'],\n 'Edge Magazine': ['http://www.next-gen.biz/reviews/rachet-clank-all-4-one-review',\n  'http://www.next-gen.biz/features/starcraft-ii-wings-of-liberty-review',\n  'http://www.edge-online.com/review/simcity-review/'],\n 'Games Master UK': ['http://www.computerandvideogames.com/article.php?id=279317',\n  'http://www.computerandvideogames.com/article.php?id=279305',\n  'http://www.computerandvideogames.com/295220/reviews/super-monkey-ball-3d-review/']}"
     },
     "execution_count": 41,
     "metadata": {},
     "output_type": "execute_result"
    }
   ],
   "source": [
    "names_game_dict"
   ],
   "metadata": {
    "collapsed": false,
    "pycharm": {
     "name": "#%%\n"
    }
   }
  },
  {
   "cell_type": "code",
   "execution_count": 27,
   "outputs": [],
   "source": [
    "with open( \"/Users/fedor/Desktop/meta_project/data/metacritic/доп/примеры_статей.json\", 'w') as f:\n",
    "    json.dump(names_game_dict, f)"
   ],
   "metadata": {
    "collapsed": false,
    "pycharm": {
     "name": "#%%\n"
    }
   }
  },
  {
   "cell_type": "markdown",
   "source": [],
   "metadata": {
    "collapsed": false,
    "pycharm": {
     "name": "#%% md\n"
    }
   }
  },
  {
   "cell_type": "code",
   "execution_count": 33,
   "outputs": [],
   "source": [
    "with open( \"/Users/fedor/Desktop/meta_project/data/metacritic/url/critic_refs/final_critic_refs.json\", 'r') as f:\n",
    "    a = json.load(f)"
   ],
   "metadata": {
    "collapsed": false,
    "pycharm": {
     "name": "#%%\n"
    }
   }
  },
  {
   "cell_type": "code",
   "execution_count": 43,
   "outputs": [
    {
     "data": {
      "text/plain": "{'Game Revolution': ['https://www.gamerevolution.com/review/488175-kingdom-hearts-3-review-ps4-xbox-one',\n  'http://www.game-revolution.com/games/pc/action/call_of_duty.htm',\n  'http://www.gamerevolution.com/review/xbox360/wwe_smackdown_vs_raw_2008'],\n 'Gaming Nexus': ['https://www.gamingnexus.com/Article/5887/Kingdom-Hearts-3/',\n  'http://www.gamingnexus.com/Article/Democracy-3/Item4344.aspx',\n  'http://www.gamingnexus.com/Review.asp?ID=374'],\n 'Destructoid': ['https://www.destructoid.com/review-kingdom-hearts-iii-540069.phtml',\n  'https://www.destructoid.com/review-valkyrie-drive-bhikkhuni-396320.phtml',\n  'http://www.destructoid.com/review-ratchet-clank-all-4-one-214060.phtml'],\n 'God is a Geek': ['https://www.godisageek.com/reviews/kingdom-hearts-3-review/',\n  'https://www.godisageek.com/reviews/ghostbusters-the-video-game-remastered-review/',\n  'http://www.godisageek.com/reviews/valkyrie-drive-bhikkhuni-review/'],\n 'GameCritics': ['https://gamecritics.com/steven-brown/kingdom-hearts-iii-review/',\n  'https://gamecritics.com/jarrod-johnston/kingdom-hearts-iii-second-opinion/',\n  'https://gamecritics.com/jarrod-johnston/ghostbusters-the-videogame-remastered-review/'],\n 'GamesRadar+': ['https://www.gamesradar.com/kingdom-hearts-3-im-not-sure-how-i-lived-without-its-mickey-mouse-shaped-madness-in-my-life/',\n  'http://www.gamesradar.com/ds/chrono-trigger/review/chrono-trigger/a-20081121174852575091/g-20080707171133771014',\n  'http://www.gamesradar.com/ratchet-and-clank-all-4-one-review/'],\n 'Multiplayer.it': ['https://multiplayer.it/recensioni/kingdom-hearts-3-recensione.html',\n  'http://multiplayer.it/recensioni/125855-democracy-3-vi-daro-la-luna.html',\n  'http://multiplayer.it/recensioni/73674-armada-2526-spazio-ultima-frontiera.html'],\n 'Hardcore Gamer': ['https://www.hardcoregamer.com/2019/01/28/review-kingdom-hearts-iii/323549/',\n  'http://www.hardcoregamer.com/2013/11/04/review-democracy-3/60767/',\n  'http://www.hardcoregamer.com/2016/10/28/review-valkyrie-drive-bhikkhuni/232661/'],\n 'SpazioGames': ['https://www.spaziogames.it/kingdom-hearts-3-recensione/',\n  'http://www.spaziogames.it/recensioni_videogiochi/console_multi_piattaforma/9921/call-of-duty-classic.aspx',\n  'http://www.spaziogames.it/recensioni_videogiochi/console_multi_piattaforma/9921/call-of-duty-classic.aspx'],\n 'DarkStation': ['https://www.darkstation.com/reviews/kingdom-hearts-iii-review',\n  'https://www.darkstation.com/reviews/ghostbusters-the-video-game-remastered-review',\n  'http://www.darkstation.com/reviews/valkyrie-drive-bhikkhuni-review'],\n '4Players.de': ['http://www.4players.de/4players.php/dispbericht/PlayStation4Pro/Test/34849/83614/0/Kingdom_Hearts_3.html',\n  'http://www.4players.de/4players.php/dispbericht/PC-CDROM/Test/33972/80239/0/Democracy_3.html',\n  'http://www.4players.de/4players.php/dispbericht/Switch/Test/38595/82430/0/New_Frontier_Days_Founding_Pioneers.html'],\n 'IGN': ['http://www.ign.com/articles/2019/01/24/kingdom-hearts-3-review-ps4-xbox-one  ',\n  'http://www.ign.com/articles/2019/01/24/kingdom-hearts-3-review-ps4-xbox-one  ',\n  'http://cube.ign.com/articles/389/389717p1.html'],\n 'Eurogamer Italy': ['https://www.eurogamer.it/articles/2019-01-24-kingdom-hearts-3-recensione',\n  'https://www.eurogamer.it/articles/2019-11-11-ghostbusters-il-videogioco-remastered-recensione',\n  'http://www.eurogamer.it/articles/videogiochi-ratchet-and-clank-all-4-one-recensione'],\n 'GameSpot': ['https://www.gamespot.com/reviews/kingdom-hearts-3-review-dearly-beloved/1900-6417074/',\n  'http://www.gamespot.com/gamecube/action/wwecrushhour/review.html',\n  'http://www.gamespot.com/ps2/driving/wwecrushhour/review.html'],\n 'Worth Playing': ['https://worthplaying.com/article/2019/1/29/reviews/112665/',\n  'http://www.worthplaying.com/article.php?sid=15246&mode=thread&order=0',\n  'https://worthplaying.com/article/2019/10/17/reviews/116576/'],\n 'Vandal': ['https://vandal.elespanol.com/analisis/ps4/kingdom-hearts-iii/21342/4#p-73',\n  'http://www.vandal.net/analisis/ps3/call-of-duty-classic-psn/11179',\n  'http://www.vandal.net/analisis/x360/call-of-duty-classic-xbla/11178'],\n 'Game Informer': ['https://www.gameinformer.com/review/kingdom-hearts-iii/a-main-attraction-worth-waiting-for',\n  'http://www.gameinformer.com/NR/exeres/DEF15DE0-547E-48B8-AEBD-3BFBEF400C4F.htm',\n  'http://gameinformer.com/NR/exeres/59E6916F-BC13-42BC-BBCB-0BE78ED437FD.htm'],\n '3DJuegos': ['https://www.3djuegos.com/juegos/analisis/8446/0/kingdom-hearts-iii/',\n  'http://www.3djuegos.com/juegos/analisis/4019/0/chrono-trigger/',\n  'http://www.3djuegos.com/juegos/analisis/2498/0/starcraft-2/'],\n 'GamingTrend': ['https://gamingtrend.com/feature/reviews/a-goofy-adventure-kingdom-hearts-iii-review/',\n  'https://gamingtrend.com/feature/reviews/ghostbusters-whaddya-want-ghostbusters-the-game-remastered-review/',\n  'https://gamingtrend.com/feature/reviews/bringing-violence-and-edm-to-the-switch-hotline-miami-collection-review/'],\n 'Meristation': ['https://as.com/meristation/2019/01/29/analisis/1548744057_226550.html',\n  'http://www.meristation.com/pc/democracy-3/analisis-juego/1915521',\n  'http://www.meristation.com/v3/des_analisis.php?id=cw4b1fda5802d2f&pic=360&idj=cw4b17fc14c52aa&idp='],\n 'COGconnected': ['https://cogconnected.com/review/kingdom-hearts-iii-review/',\n  'https://cogconnected.com/review/ghostbusters-game-remastered-review/',\n  'https://cogconnected.com/review/hotline-miami-collection-review-2/'],\n 'Cheat Code Central': ['http://cheatcc.com/ps4/rev/kingdomhearts3review.html',\n  'http://cheatcc.com/ds/rev/chronotriggerreview.html',\n  'http://cheatcc.com/xbox360/rev/smackdownvsraw2008review.html'],\n 'Everyeye.it': ['https://www.everyeye.it/articoli/recensione-kingdom-hearts-3-luci-ombre-del-conflitto-finale-42444.html',\n  'https://www.everyeye.it/articoli/recensione-ghostbusters-videogame-remastered-tornano-acchiappafantasmi-45924.html',\n  'https://www.everyeye.it/articoli/recensione-hotline-miami-collection-killer-nintendo-switch-45106.html'],\n 'Metro GameCentral': ['https://metro.co.uk/2019/01/29/kingdom-hearts-iii-review-mickey-mouse-epic-8408958/',\n  'http://www.teletext.co.uk/gamecentral/features-reviews/5ab9cfd3100beb9ac958e6bbb2405b68/Call+Of+Duty+Classic+%28360%29.aspx',\n  'https://metro.co.uk/2019/10/07/ghostbusters-video-game-remastered-review-bustin-makes-feel-nostalgic-10876532/'],\n 'ZTGD': ['http://www.ztgd.com/reviews/kingdom-hearts-iii-xb1/',\n  'http://www.ztgamedomain.com/9060/Call-of-Duty-Classic.html',\n  'http://www.ztgamedomain.com/9059/Call-of-Duty-Classic.html'],\n 'GameSpy': ['http://www.gamespy.com/reviews/april03/crushhourgcn/',\n  'http://www.gamespy.com/reviews/april03/crushhourps2/',\n  'http://www.gamespy.com/reviews/october03/callofdutypc/'],\n 'Eurogamer': ['http://www.eurogamer.net/article.php?article_id=52531',\n  'http://www.eurogamer.net/article.php?article_id=53681',\n  'http://www.eurogamer.net/articles/call-of-duty-classic-review'],\n 'GamePro': ['http://www.gamepro.com/nintendo/gamecube/games/reviews/28570.shtml',\n  'http://www.gamepro.com/computer/pc/games/reviews/31578.shtml',\n  'http://www.gamepro.com/microsoft/xbox360/games/reviews/147508.shtml'],\n 'GameZone': ['http://gamecube.gamezone.com/gzreviews/r20398.htm',\n  'http://ps2.gamezone.com/gzreviews/r20398.htm',\n  'http://www.gamezone.com/gzreviews/r21872.htm'],\n 'PC Gamer': ['http://www.pcgamer.com/review/democracy-3-review/',\n  'http://www.pcgamer.com/2010/08/11/starcraft-2-review/',\n  'http://www.pcgamer.com/kerbal-space-program-review/'],\n '1UP': ['http://www.1up.com/article2/0,4364,1367554,00.asp',\n  'http://www.1up.com/do/reviewPage?cId=3137776&did=1',\n  'http://www.1up.com/do/reviewPage?cId=3171483&p=39'],\n 'NintendoWorldReport': ['http://www.nintendoworldreport.com/review/51914/ghostbusters-the-video-game-remastered-review',\n  'http://www.nintendoworldreport.com/review/51515/hotline-miami-collection-switch-review',\n  'http://www.nintendoworldreport.com/reviewArt.cfm?artid=17445'],\n 'Gaming Age': ['http://www.gaming-age.com/2019/10/ghostbusters-the-video-game-remastered-review-for-ps4-xbox-one-switch-pc/',\n  'http://www.gaming-age.com/cgi-bin/reviews/review.pl?sys=nds&game=chronotrigger',\n  'http://www.gaming-age.com/cgi-bin/reviews/review.pl?sys=wii&game=svr08'],\n 'Edge Magazine': ['http://www.next-gen.biz/reviews/rachet-clank-all-4-one-review',\n  'http://www.next-gen.biz/features/starcraft-ii-wings-of-liberty-review',\n  'http://www.edge-online.com/review/simcity-review/'],\n 'Games Master UK': ['http://www.computerandvideogames.com/article.php?id=279317',\n  'http://www.computerandvideogames.com/article.php?id=279305',\n  'http://www.computerandvideogames.com/295220/reviews/super-monkey-ball-3d-review/']}"
     },
     "execution_count": 43,
     "metadata": {},
     "output_type": "execute_result"
    }
   ],
   "source": [
    "names_game_dict"
   ],
   "metadata": {
    "collapsed": false,
    "pycharm": {
     "name": "#%%\n"
    }
   }
  },
  {
   "cell_type": "code",
   "execution_count": null,
   "outputs": [],
   "source": [],
   "metadata": {
    "collapsed": false,
    "pycharm": {
     "name": "#%%\n"
    }
   }
  }
 ],
 "metadata": {
  "kernelspec": {
   "display_name": "Python 3",
   "language": "python",
   "name": "python3"
  },
  "language_info": {
   "codemirror_mode": {
    "name": "ipython",
    "version": 2
   },
   "file_extension": ".py",
   "mimetype": "text/x-python",
   "name": "python",
   "nbconvert_exporter": "python",
   "pygments_lexer": "ipython2",
   "version": "2.7.6"
  }
 },
 "nbformat": 4,
 "nbformat_minor": 0
}