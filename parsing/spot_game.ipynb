{
 "cells": [
  {
   "cell_type": "code",
   "execution_count": 191,
   "metadata": {
    "collapsed": true,
    "pycharm": {
     "name": "#%%\n"
    }
   },
   "outputs": [],
   "source": [
    "import requests\n",
    "import json\n",
    "from bs4 import BeautifulSoup as bs\n",
    "from api.iterating_api import generator_over_review\n",
    "from api.parsers_api import headers, HTTP_error, parse_GameSpot"
   ]
  },
  {
   "cell_type": "code",
   "execution_count": 49,
   "outputs": [],
   "source": [
    "\n",
    "\n",
    "url_404 = \"http://www.gamespot.com/pc/strategy/dominions3/review.html?sid=6163352\"\n",
    "data_path = \"/Users/fedor/Desktop/meta_project/data/metacritic/critic_review\"\n",
    "logs_path = \"/Users/fedor/Desktop/meta_project/data/metacritic/logs/logs_1.txt\"\n",
    "save_path = \"/Users/fedor/Desktop/meta_project/data/metacritic/outter_critic_review/\"\n"
   ],
   "metadata": {
    "collapsed": false,
    "pycharm": {
     "name": "#%%\n"
    }
   }
  },
  {
   "cell_type": "markdown",
   "source": [
    "# SpotGame reviews by links from metacritic"
   ],
   "metadata": {
    "collapsed": false,
    "pycharm": {
     "name": "#%% md\n"
    }
   }
  },
  {
   "cell_type": "code",
   "execution_count": 52,
   "outputs": [
    {
     "name": "stdout",
     "output_type": "stream",
     "text": [
      "Do you want to delete pld logs? Enter + if so\n"
     ]
    }
   ],
   "source": [
    "def my_predicate(d):\n",
    "    return d[\"name\"] == \"GameSpot\"\n",
    "\n",
    "\n",
    "a = generator_over_review(data_path,\n",
    "                          # game_search_list=['INSIDE'],\n",
    "                          # platform_search_list=[\"pc\"],\n",
    "                          review_predicate = my_predicate,\n",
    "                          add_info=False)\n",
    "COUNTER = 0\n",
    "\n",
    "print(\"Do you want to delete pld logs? Enter + if so\")\n",
    "if input() == \"+\":\n",
    "    open(logs_path, 'w').close() #clean up logs file\n",
    "    print(\"-log file cleaned up\")\n",
    "\n",
    "with open(logs_path, \"a\") as log_file:\n",
    "\n",
    "    for rev in a:\n",
    "        COUNTER += 1\n",
    "        if COUNTER < 2036:\n",
    "            continue\n",
    "        if not rev['ref']:\n",
    "            continue\n",
    "        try:\n",
    "            parse_GameSpot(rev['ref'],save_path = save_path + str(COUNTER)+\".json\", json_save = True)\n",
    "\n",
    "        except HTTP_error as e:\n",
    "\n",
    "            if e.status_code == 404:\n",
    "                log_file.write(\"404 \"+e.link + \"\\n\")\n",
    "            elif e.status_code == 0:\n",
    "                log_file.write(\"000 \" + e.link + \"\\n\")\n",
    "            else:\n",
    "                log_file.write(str(e.status_code) + \" \" + e.link + \"\\n\")\n",
    "\n",
    "        except requests.ConnectionError or requests.HTTPError or requests.exceptions.RequestException or requests.exceptions.MissingSchema:\n",
    "            # print(\"Inner error of Requests lib\", rev['ref'])\n",
    "            log_file.write(\"INN \" + rev['ref'] + \"\\n\")\n",
    "\n",
    "        except ... :\n",
    "            log_file.write(\"VBL \" + rev['ref'] + \"\\n\")\n",
    "            # print(\"Very broken link\", rev['ref'])"
   ],
   "metadata": {
    "collapsed": false,
    "pycharm": {
     "name": "#%%\n"
    }
   }
  },
  {
   "cell_type": "markdown",
   "source": [
    "# Parsing SpotGame reviews by links from SpotGame itself.\n",
    "Links come from structure of a web-site structure."
   ],
   "metadata": {
    "collapsed": false,
    "pycharm": {
     "name": "#%% md\n"
    }
   }
  },
  {
   "cell_type": "code",
   "execution_count": 193,
   "outputs": [],
   "source": [
    "def parse_GameSpot(URL: str,\n",
    "                   save_path: str = \"\",\n",
    "                   json_save: bool = False\n",
    "                   ):\n",
    "    \"\"\"\n",
    "    Gets information about review about game on a page (name of game,\n",
    "    headline of article, text of review) and returns it as dict. Works only with that site!\n",
    "    IGN main page - https://www.gamespot.com\n",
    "    :param URL: str\n",
    "        page url\n",
    "    :param  save_path: str\n",
    "        Path to save data on json format\n",
    "    :return: None or dict\n",
    "        if dict - full of info (keys: name_review, ref, text)\n",
    "    \"\"\"\n",
    "\n",
    "    # get HTTP page by GET request\n",
    "    r = requests.get(URL, headers=headers, timeout=10)\n",
    "\n",
    "    # HTTP check (f.e. for 404 request status)\n",
    "    if not r.ok:\n",
    "        raise HTTP_error(r.status_code, r.url, \"Big error\")\n",
    "\n",
    "    # HTML code scrubbing start\n",
    "    soup = bs(r.text, \"html.parser\")\n",
    "    body = soup.find(class_=\"js-content-entity-body\")\n",
    "\n",
    "    if not body:\n",
    "        redirect_ref = soup.find(class_=\"media media-game media-game\")\n",
    "        if not redirect_ref:\n",
    "            er = HTTP_error(0, r.url, \"Wierd page - can not scrab!\")\n",
    "            raise er\n",
    "\n",
    "        return parse_GameSpot(\"https://www.gamespot.com\" + redirect_ref.a['href'], save_path, json_save)\n",
    "\n",
    "    p_text_list = body.find_all(\"p\")\n",
    "\n",
    "    game_full_rewiev = \"\"\n",
    "    for p in p_text_list:\n",
    "        game_full_rewiev += p.text\n",
    "\n",
    "    # game_header = soup.find(class_=\"news-title instapaper_title entry-title\").text\n",
    "    date = soup.find(class_=\"news-byline\").time.text\n",
    "\n",
    "    date = date[:date.find(\"at\")]  #they provide in format February 23, 2005 at 1:41PM PST\n",
    "\n",
    "    game_name = soup.find(class_=\"no-hover\").span.text\n",
    "    # HTML code scrubbing end\n",
    "\n",
    "    # Dictionary with data forming\n",
    "    data = {\n",
    "        # 'name_review': game_header,\n",
    "        'ref': URL,\n",
    "        'date': date,\n",
    "        'game_name': game_name,\n",
    "        'text': game_full_rewiev}\n",
    "\n",
    "    # Save dictionary as json or return\n",
    "    if json_save:\n",
    "        with open(save_path, 'w') as f:\n",
    "            json.dump(data, f)\n",
    "        return\n",
    "    else:\n",
    "        return data\n"
   ],
   "metadata": {
    "collapsed": false,
    "pycharm": {
     "name": "#%%\n"
    }
   }
  },
  {
   "cell_type": "code",
   "execution_count": 56,
   "outputs": [
    {
     "name": "stderr",
     "output_type": "stream",
     "text": [
      "100%|██████████| 95/95 [03:04<00:00,  1.94s/it]\n"
     ]
    }
   ],
   "source": [
    "from tqdm import tqdm\n",
    "\n",
    "for url in tqdm(url_list[143+156+213+19+67+41:]):\n",
    "\n",
    "    r = requests.get(url, headers=headers, timeout=10)\n",
    "    soup = bs(r.text, \"html.parser\")\n",
    "    body = soup.find(id =\"js-sort-filter-results\").find(\"section\")\n",
    "    for segment in body.find_all(\"a\"):\n",
    "        absolut_url.append(spot_prefics+segment[\"href\"])\n"
   ],
   "metadata": {
    "collapsed": false,
    "pycharm": {
     "name": "#%%\n"
    }
   }
  },
  {
   "cell_type": "code",
   "execution_count": 196,
   "outputs": [
    {
     "name": "stderr",
     "output_type": "stream",
     "text": [
      "100%|██████████| 15380/15380 [4:25:35<00:00,  1.04s/it]  \n"
     ]
    }
   ],
   "source": [
    "curent_position = 9\n",
    "save_path = \"/Users/fedor/Desktop/meta_project/data/metacritic/gamespot/\"\n",
    "with open(\"/Users/fedor/Desktop/meta_project/data/metacritic/logs/logs_2.txt\", \"a\") as log_file:\n",
    "    for COUNTER, url in enumerate(tqdm(absolut_url_new[curent_position:])):\n",
    "        try:\n",
    "            parse_GameSpot(url, save_path=save_path + str(COUNTER) + \".json\", json_save=True)\n",
    "\n",
    "        except HTTP_error as e:\n",
    "            if e.status == 404:\n",
    "                log_file.write(\"404 \" + url + \"\\n\")\n",
    "            elif e.status == 0:\n",
    "                log_file.write(\"000 \" + url + \"\\n\")\n",
    "            else:\n",
    "                log_file.write(str(e.status) + \" \" + url + \"\\n\")\n",
    "\n",
    "        except requests.ConnectionError or requests.HTTPError or requests.exceptions.RequestException or requests.exceptions.MissingSchema:\n",
    "            log_file.write(\"INN \" + url + \"\\n\")\n",
    "\n",
    "        except requests.exceptions.Timeout:\n",
    "            try:\n",
    "                parse_GameSpot(url, save_path=save_path + str(COUNTER) + \".json\", json_save=True)\n",
    "            except requests.exceptions.Timeout:\n",
    "                log_file.write(\"TOU \" + url + \"\\n\")\n",
    "\n",
    "        except ...:\n",
    "            log_file.write(\"VBL \" + url + \"\\n\")"
   ],
   "metadata": {
    "collapsed": false,
    "pycharm": {
     "name": "#%%\n"
    }
   }
  },
  {
   "cell_type": "markdown",
   "source": [
    "# Error Analysis\n",
    "Total amount of urls if 15.380"
   ],
   "metadata": {
    "collapsed": false,
    "pycharm": {
     "name": "#%% md\n"
    }
   }
  },
  {
   "cell_type": "code",
   "execution_count": 200,
   "outputs": [
    {
     "name": "stdout",
     "output_type": "stream",
     "text": [
      "\n"
     ]
    },
    {
     "data": {
      "text/plain": "{'\\n': 1, '000': 25, '502': 20, '404': 1}"
     },
     "execution_count": 200,
     "metadata": {},
     "output_type": "execute_result"
    }
   ],
   "source": [
    "er_dict = {}\n",
    "print()\n",
    "with open(\"/Users/fedor/Desktop/meta_project/data/metacritic/logs/logs_2.txt\", \"r\") as log_file:\n",
    "    for line in log_file.readlines():\n",
    "        er_code = line[:3]\n",
    "        if er_code not in er_dict.keys():\n",
    "            er_dict[er_code] = 1\n",
    "        else:\n",
    "            er_dict[er_code] += 1\n",
    "er_dict"
   ],
   "metadata": {
    "collapsed": false,
    "pycharm": {
     "name": "#%%\n"
    }
   }
  },
  {
   "cell_type": "markdown",
   "source": [
    "# Result analyses\n",
    "and data reforming"
   ],
   "metadata": {
    "collapsed": false,
    "pycharm": {
     "name": "#%% md\n"
    }
   }
  },
  {
   "cell_type": "code",
   "execution_count": 248,
   "outputs": [
    {
     "name": "stderr",
     "output_type": "stream",
     "text": [
      "15335it [00:23, 654.52it/s]\n"
     ]
    }
   ],
   "source": [
    "from pathlib import Path\n",
    "folder_path = \"/Users/fedor/Desktop/meta_project/data/metacritic/game_spot/spotgame_links\"\n",
    "alternative_folder_path = \"/Users/fedor/Desktop/meta_project/data/metacritic/game_spot/spotgame_links_1/\"\n",
    "name_dict = {}\n",
    "names = Path(folder_path).glob('*')\n",
    "wrong_names = []\n",
    "COUNTER = 0\n",
    "for n in tqdm(names):\n",
    "    COUNTER +=  1\n",
    "    if COUNTER == 2311:\n",
    "        continue\n",
    "\n",
    "    with open(n,\"r\") as old_file:\n",
    "        template = json.load(old_file)\n",
    "        game_name = template[\"game_name\"]\n",
    "\n",
    "        if  game_name.find(\"/\"):\n",
    "            wrong_names.append(game_name)\n",
    "            game_name = game_name.replace(\"/\",\"_\")\n",
    "\n",
    "        if game_name in name_dict:\n",
    "            name_dict[game_name] += 1\n",
    "        else:\n",
    "            name_dict[game_name] = 1\n",
    "\n",
    "        with open(alternative_folder_path+game_name+\"_\"+str(name_dict[game_name])+\".json\",\"w\")as f:\n",
    "            json.dump(template, f)\n",
    "\n",
    "\n"
   ],
   "metadata": {
    "collapsed": false,
    "pycharm": {
     "name": "#%%\n"
    }
   }
  },
  {
   "cell_type": "code",
   "execution_count": 255,
   "outputs": [],
   "source": [
    "s = sorted(name_dict, key= lambda x: name_dict[x],reverse=True)"
   ],
   "metadata": {
    "collapsed": false,
    "pycharm": {
     "name": "#%%\n"
    }
   }
  },
  {
   "cell_type": "code",
   "execution_count": 264,
   "outputs": [
    {
     "name": "stdout",
     "output_type": "stream",
     "text": [
      "17 The Walking Dead: A Telltale Games Series\n",
      "12 Fallout: New Vegas\n",
      "11 The Sims\n",
      "11 The Sims 3\n",
      "11 Mass Effect 2\n",
      "10 Need for Speed: Carbon\n",
      "10 Madden NFL 07\n",
      "9 Madden NFL 06\n",
      "9 Disney_Pixar Ratatouille\n",
      "9 Surf's Up\n",
      "9 Madden NFL 08\n",
      "9 World of Warcraft\n",
      "9 Need for Speed: Most Wanted (2005)\n",
      "9 Open Season\n",
      "8 Sam & Max: Save the World\n",
      "8 TMNT\n",
      "8 Disney_Pixar Cars\n",
      "8 Marvel: Ultimate Alliance\n",
      "8 Star Wars: The Force Unleashed\n",
      "8 Harry Potter and the Order of the Phoenix\n",
      "8 Lego Star Wars II: The Original Trilogy\n",
      "8 Spider-Man 2\n",
      "8 FIFA World Cup: Germany 2006\n",
      "8 FIFA 07 Soccer\n",
      "8 Diablo III\n",
      "8 Tom Clancy's Splinter Cell: Chaos Theory\n",
      "8 Borderlands\n",
      "8 Dishonored\n",
      "8 Tomb Raider: Legend\n",
      "8 Dragon Age: Origins\n",
      "7 Eragon\n",
      "7 Lego Indiana Jones: The Original Adventures\n",
      "7 FIFA Soccer 2005\n",
      "7 Tiger Woods PGA Tour 07\n",
      "7 Tom Clancy's Splinter Cell\n",
      "7 Prince of Persia: The Two Thrones\n",
      "7 Disney Pirates of the Caribbean: At World's End\n",
      "7 Disney's Meet the Robinsons\n",
      "7 Major League Baseball 2K7\n",
      "7 Harry Potter and the Goblet of Fire\n",
      "7 Bionicle Heroes\n",
      "7 Transformers: The Game\n",
      "7 Destiny 2\n",
      "7 Peter Jackson's King Kong: The Official Game of the Movie\n",
      "7 LEGO Pirates of the Caribbean: The Video Game\n",
      "7 Tony Hawk's Pro Skater 3\n",
      "7 Assassin's Creed II\n",
      "7 The Wolf Among Us\n",
      "7 The Chronicles of Narnia: The Lion, The Witch and The Wardrobe\n",
      "7 Rayman 2: The Great Escape\n",
      "7 Mafia II\n",
      "7 Tom Clancy's Splinter Cell: Double Agent\n",
      "7 Mass Effect 3\n",
      "7 Resident Evil\n",
      "7 Duke Nukem 3D\n",
      "7 Resident Evil 4 (2005)\n",
      "7 Tiger Woods PGA Tour 2004\n",
      "7 X-Men: The Official Game\n",
      "7 Tom Clancy's Ghost Recon\n",
      "7 Spider-Man 3\n",
      "7 Tiger Woods PGA Tour 2005\n",
      "7 Need for Speed: Underground 2\n",
      "7 Pro Evolution Soccer 2008\n",
      "6 Shrek 2\n",
      "6 Harry Potter and the Sorcerer's Stone\n",
      "6 Tony Hawk's Pro Skater 2\n",
      "6 The Sims 2\n",
      "6 The Elder Scrolls IV: Oblivion\n",
      "6 Saints Row: The Third\n",
      "6 Ultima Online\n",
      "6 Avatar: The Last Airbender\n",
      "6 Batman: Arkham City\n",
      "6 Fallout 3\n",
      "6 Madden NFL 2002\n",
      "6 Gun\n",
      "6 Borderlands 2\n",
      "6 Test Drive Le Mans\n",
      "6 Cities: Skylines\n",
      "6 The Sims 2: Pets\n",
      "6 DreamWorks Shrek the Third\n",
      "6 Call of Duty 3\n",
      "6 Tiger Woods PGA Tour 06\n",
      "6 The Godfather\n",
      "6 Crash Nitro Kart\n",
      "6 Dragon Age II\n",
      "6 Tom Clancy's Splinter Cell: Pandora Tomorrow\n",
      "6 Game of Thrones: A Telltale Games Series\n",
      "6 BioShock Infinite\n",
      "6 Puzzle Quest: Challenge of the Warlords\n",
      "6 Rayman Raving Rabbids\n",
      "6 FIFA 06: Road to FIFA World Cup\n",
      "6 Need for Speed: ProStreet\n",
      "6 Thrillville: Off the Rails\n",
      "6 Prince of Persia: Warrior Within\n",
      "6 Final Fantasy XIV Online: A Realm Reborn\n",
      "6 Command & Conquer\n",
      "6 Tony Hawk's Pro Skater 4\n",
      "6 DreamWorks Over the Hedge\n",
      "6 The Incredible Hulk (2008)\n",
      "6 LEGO Harry Potter: Years 1-4\n",
      "6 Dark Souls II\n",
      "6 Tiger Woods PGA Tour 08\n",
      "6 Tony Hawk's Underground 2 Remix\n",
      "6 Madden NFL 2005\n",
      "6 SoulCalibur II\n",
      "6 Spy Hunter\n",
      "5 Namco Museum (2002)\n",
      "5 XCOM: Enemy Unknown\n",
      "5 Tom Clancy's Rainbow Six\n",
      "5 Driver: Parallel Lines\n",
      "5 Life is Strange\n",
      "5 Major League Baseball 2K6\n",
      "5 Scarface: The World Is Yours\n",
      "5 NBA Live 07\n",
      "5 Mat Hoffman's Pro BMX\n",
      "5 Fight Night Round 3\n",
      "5 Star Wars: The Force Unleashed II\n",
      "5 Iron Man (2008)\n",
      "5 XIII\n",
      "5 DmC: Devil May Cry\n",
      "5 Fantastic 4\n",
      "5 Super Puzzle Fighter II Turbo\n",
      "5 Delta Force: Black Hawk Down\n",
      "5 The Urbz: Sims in the City\n",
      "5 Harry Potter and the Prisoner of Azkaban\n",
      "5 Disney_Pixar The Incredibles\n",
      "5 NBA Live 06\n",
      "5 Harry Potter: Quidditch World Cup\n",
      "5 Battlefield: Bad Company 2\n",
      "5 Call of Duty 4: Modern Warfare\n",
      "5 The Italian Job\n",
      "5 The Elder Scrolls III: Morrowind\n",
      "5 Guacamelee!\n",
      "5 Stacking\n",
      "5 Tales from the Borderlands: A Telltale Game Series\n",
      "5 2002 FIFA World Cup\n",
      "5 Metal Gear Solid\n",
      "5 NHL 07\n",
      "5 The Walking Dead: Season Two - A Telltale Games Series\n",
      "5 Defender (2002)\n",
      "5 Tony Hawk's Pro Skater\n",
      "5 Madden NFL 2004\n",
      "5 LEGO Star Wars\n",
      "5 Madden NFL 2003\n",
      "5 Broken Sword: The Shadow of the Templars\n",
      "5 Dead Space 2\n",
      "5 FIFA Soccer 2004\n",
      "5 Curious George\n",
      "5 Dark Void\n",
      "5 The Legend of Spyro: A New Beginning\n",
      "5 Need for Speed: Undercover\n",
      "5 Minecraft\n",
      "5 The Ant Bully\n",
      "5 Pac-Man\n",
      "5 Pitfall: The Lost Expedition\n",
      "5 Grand Theft Auto V\n",
      "5 Resident Evil: Revelations\n",
      "5 The Simpsons Game\n",
      "5 Red Faction: Guerrilla\n",
      "5 Catwoman (2004)\n",
      "5 Prince of Persia: The Forgotten Sands\n",
      "5 FIFA Soccer 12\n",
      "5 Tony Hawk's Proving Ground\n",
      "5 The Elder Scrolls V: Skyrim\n",
      "5 Marvel vs. Capcom 2\n",
      "5 The Golden Compass\n",
      "5 The Walking Dead: The Telltale Series - A New Frontier\n",
      "5 Spider-Man: Friend or Foe\n",
      "5 Warcraft II: Tides of Darkness\n",
      "5 Disney's Donald Duck: Goin' Quackers\n",
      "5 FIFA Street 2\n",
      "5 Tomb Raider: Anniversary\n",
      "5 Final Fantasy XI\n",
      "5 Transformers: Revenge of the Fallen The Mobile Game\n",
      "5 Batman: Vengeance\n",
      "5 LEGO Star Wars III: The Clone Wars\n",
      "5 WWE SmackDown vs. Raw 2008\n",
      "5 Brunswick Pro Bowling (2009)\n",
      "5 Ready 2 Rumble Boxing: Round 2\n",
      "5 Ultimate Spider-Man\n",
      "5 The Bigs\n",
      "5 Conflict: Desert Storm\n",
      "5 Command & Conquer: Red Alert\n",
      "5 Batman Begins\n",
      "5 Fantastic Four: Rise of the Silver Surfer\n",
      "5 LIMBO\n",
      "5 Tom Clancy's Rainbow Six: Lockdown\n",
      "5 Need for Speed: Underground\n",
      "5 Star Wars The Clone Wars: Republic Heroes\n",
      "5 Call of Duty: Black Ops\n",
      "5 Blazing Angels: Squadrons of WWII\n",
      "5 FIFA 08 Soccer\n",
      "5 Life is Strange 2\n",
      "5 Tony Hawk's Underground\n",
      "5 Sega Superstars Tennis\n",
      "5 Assassin's Creed III\n",
      "5 World Series of Poker: Tournament of Champions\n",
      "5 Mortal Kombat 4\n",
      "5 Marvel Nemesis: Rise of the Imperfects\n",
      "5 Samurai Warriors 2\n",
      "5 Disney*Pixar WALL-E\n",
      "5 NBA Live 08\n",
      "5 Tetris Worlds\n",
      "5 Dead to Rights\n",
      "5 Ghostbusters: The Video Game\n",
      "5 Guitar Hero III: Legends of Rock\n",
      "5 Batman: The Enemy Within - The Telltale Series\n",
      "5 Teenage Mutant Ninja Turtles (2003)\n",
      "5 Resident Evil 2 (1998)\n",
      "5 The Lord of the Rings: The Return of the King\n",
      "5 Spider-Man: The Movie\n",
      "5 The Sims Bustin' Out\n",
      "5 Prince of Persia: The Sands of Time\n",
      "5 Justice League Heroes\n",
      "5 Spider-Man (1991)\n",
      "5 Tony Hawk's American Wasteland\n",
      "5 Midnight Club 3: DUB Edition\n",
      "5 Crazy Taxi\n",
      "5 X-Men Legends II: Rise of Apocalypse\n",
      "5 Nickelodeon Barnyard\n",
      "4 NFL Blitz 20-03\n",
      "4 Baldur's Gate: Dark Alliance\n",
      "4 NFL Blitz 20-02\n",
      "4 Star Wars Episode III: Revenge of the Sith\n",
      "4 Shadow Man\n",
      "4 DreamWorks Bee Movie Game\n",
      "4 BloodRayne\n",
      "4 Blitz: The League\n",
      "4 Rayman 3: Hoodlum Havoc\n",
      "4 Just Cause\n",
      "4 NHL 08\n",
      "4 Beowulf: The Game\n",
      "4 MVP Baseball 2004\n",
      "4 Winning Eleven: Pro Evolution Soccer 2007\n",
      "4 All-Star Baseball 2003\n",
      "4 Tom Clancy's Rainbow Six: Rogue Spear\n",
      "4 Tiger Woods PGA Tour 10\n",
      "4 Legends of Wrestling II\n",
      "4 Dark Souls\n",
      "4 SSX 3\n",
      "4 Tiger Woods PGA Tour 2003\n",
      "4 Shaun White Snowboarding\n",
      "4 Big Mutha Truckers\n",
      "4 Red Faction II\n",
      "4 Tom Clancy's Splinter Cell: Conviction\n",
      "4 NBA 2K2\n",
      "4 NHL 2K7\n",
      "4 NBA Hoopz\n",
      "4 Minecraft: Story Mode - A Telltale Games Series\n",
      "4 Midway Arcade Treasures\n",
      "4 Railroad Tycoon II\n",
      "4 Majesty 2: The Fantasy Kingdom Sim\n",
      "4 Mortal Kombat: Deception\n",
      "4 Street Fighter Alpha 3\n",
      "4 Starsky & Hutch\n",
      "4 Resident Evil: Revelations 2\n",
      "4 Resident Evil 5\n",
      "4 Worms Armageddon\n",
      "4 Pro Evolution Soccer 2011\n",
      "4 AMF Xtreme Bowling\n",
      "4 Max Payne\n",
      "4 F.E.A.R. 2: Project Origin\n",
      "4 ECW Hardcore Revolution\n",
      "4 Pinball Hall of Fame: The Williams Collection\n",
      "4 NCAA Football 2004\n",
      "4 ProStroke Golf - World Tour 2007\n",
      "4 Tony Hawk's Project 8\n",
      "4 College Hoops 2K7\n",
      "4 F1 Championship Season 2000\n",
      "4 Neverwinter Nights 2\n",
      "4 Monster House\n",
      "4 Mat Hoffman's Pro BMX 2\n",
      "4 Madden NFL 2000\n",
      "4 FIFA 2002\n",
      "4 James Cameron's Avatar: The Game\n",
      "4 NHL 2004\n",
      "4 NBA Live 2005\n",
      "4 MVP Baseball 2005\n",
      "4 Star Wars: Battlefront II (2005)\n",
      "4 MLB Slugfest 20-04\n",
      "4 Top Spin 2\n",
      "4 DreamWorks Madagascar\n",
      "4 Deus Ex: Human Revolution\n",
      "4 Command & Conquer 3: Tiberium Wars\n",
      "4 Spider-Man: Web of Shadows\n",
      "4 Darksiders II\n",
      "4 Conflict: Desert Storm II - Back to Baghdad\n",
      "4 Assassin's Creed\n",
      "4 Superman Returns\n",
      "4 NASCAR Thunder 2003\n",
      "4 Alien Hominid\n",
      "4 Grand Theft Auto\n",
      "4 The Witcher 3: Wild Hunt\n",
      "4 Second Sight\n",
      "4 Marvel: Ultimate Alliance 2\n",
      "4 Harry Potter and the Chamber of Secrets\n",
      "4 F.E.A.R.\n",
      "4 World Series of Poker\n",
      "4 Hitman: Blood Money\n",
      "4 The Simpsons: Road Rage\n",
      "4 Ms. Pac-Man Maze Madness\n",
      "4 Harry Potter and the Deathly Hallows, Part 2\n",
      "4 SSX On Tour\n",
      "4 Greg Hastings' Tournament Paintball Max'd\n",
      "4 The Chronicles of Narnia: Prince Caspian\n",
      "4 Turok: Evolution\n",
      "4 NHL 06\n",
      "4 Bulletstorm\n",
      "4 Sleeping Dogs\n",
      "4 You Don't Know Jack (2011)\n",
      "4 Frogger 2: Swampy's Revenge\n",
      "4 NBA Live 2003\n",
      "4 From Russia With Love\n",
      "4 NHL 2003\n",
      "4 FIFA Soccer 2003\n",
      "4 NHL 2005\n",
      "4 South Park Rally\n",
      "4 The Lord of the Rings: The Two Towers\n",
      "4 Blood Omen 2\n",
      "4 NASCAR 2000\n",
      "4 Rome: Total War\n",
      "4 Rayman Arena\n",
      "4 Sid Meier's Civilization Revolution\n",
      "4 Tom Clancy's Ghost Recon Advanced Warfighter\n",
      "4 Diner Dash\n",
      "4 Resident Evil 3: Nemesis\n",
      "4 The Last of Us\n",
      "4 Call of Duty\n",
      "4 Colin McRae Rally 2005\n",
      "4 Xevious\n",
      "4 Pinball Hall of Fame: The Gottlieb Collection\n",
      "4 Kentucky Route Zero\n",
      "4 NFL Blitz 2000\n",
      "4 World Soccer Winning Eleven 9\n",
      "4 DreamWorks & Aardman Flushed Away\n",
      "4 Guild Wars\n",
      "4 Star Wars Episode I: Racer\n",
      "4 Pac-Man World 3\n",
      "4 Zoo Tycoon (2001)\n",
      "4 Quake\n",
      "4 WTA Tour Tennis\n",
      "4 The Secret of Monkey Island\n",
      "4 Castlevania\n",
      "4 Hitman 2: Silent Assassin\n",
      "4 Tomb Raider\n",
      "4 Bust-A-Move 4\n",
      "4 Sid Meier's Civilization IV\n",
      "4 NBA In The Zone '98\n",
      "4 Tony Hawk's Downhill Jam\n",
      "4 Pro Evolution Soccer 2009\n",
      "4 Disney_Pixar's Toy Story 2: Buzz Lightyear to the Rescue!\n",
      "4 Dave Mirra Freestyle BMX\n",
      "4 Sid Meier's Civilization II\n",
      "4 Tom Clancy's Ghost Recon Advanced Warfighter 2\n",
      "4 NASCAR SimRacing\n",
      "4 F1 2002\n",
      "4 Thor: God of Thunder\n",
      "4 SSX Tricky\n",
      "4 X2: Wolverine's Revenge\n",
      "4 Tak: The Great Juju Challenge\n",
      "4 Micro Machines V4\n",
      "4 Mortal Kombat: Deadly Alliance\n",
      "4 WWE SmackDown vs. Raw 2009\n",
      "4 ESPN International Track & Field\n",
      "4 de Blob 2\n",
      "4 DOOM (1993)\n",
      "4 Serious Sam: The First Encounter\n",
      "4 Major League Baseball 2K10\n",
      "4 Rocky (2002)\n",
      "4 Red Dead Redemption\n",
      "4 Aggressive Inline\n",
      "4 GoldenEye: Rogue Agent\n",
      "4 BioShock 2\n",
      "4 MX vs. ATV Unleashed\n",
      "4 DreamWorks Shrek SuperSlam\n",
      "4 Cartoon Network: Punch Time Explosion\n",
      "4 Def Jam: Fight for NY\n",
      "4 Crash Tag Team Racing\n",
      "4 MotoGP 2\n",
      "4 Bionicle\n",
      "4 F1 World Grand Prix: 1999 Season\n",
      "4 Devil May Cry 4\n",
      "4 All-Star Baseball 2004\n",
      "4 L.A. Noire\n",
      "4 Judge Dredd: Dredd VS Death\n",
      "4 Hexen: Beyond Heretic\n",
      "4 Assassin's Creed: Brotherhood\n",
      "4 NCAA Football 07\n",
      "4 NBA 2K7\n",
      "4 True Crime: Streets of LA\n",
      "4 Disney G-Force\n",
      "4 Cricket (2009)\n",
      "4 EverQuest II\n",
      "4 Super Street Fighter II Turbo\n",
      "4 Metal Gear Solid 2: Sons of Liberty\n",
      "4 Sphinx and the Cursed Mummy\n",
      "4 Ford Bold Moves Street Racing\n",
      "4 X-Men Legends\n",
      "4 Mortal Kombat (2011)\n",
      "4 MotoGP\n"
     ]
    }
   ],
   "source": [
    "for l in s[:400]:\n",
    "    print(name_dict[l], l)"
   ],
   "metadata": {
    "collapsed": false,
    "pycharm": {
     "name": "#%%\n"
    }
   }
  },
  {
   "cell_type": "code",
   "execution_count": 270,
   "outputs": [
    {
     "name": "stderr",
     "output_type": "stream",
     "text": [
      "12899it [00:00, 60205.61it/s]\n"
     ]
    }
   ],
   "source": [
    "data_path = \"/Users/fedor/Desktop/meta_project/data/metacritic/metacritic/critic_review\"\n",
    "meta_names = Path(data_path).glob('*')\n",
    "g_name_list = []\n",
    "for g_name in tqdm(meta_names):\n",
    "    g_name_list.append((str(g_name).split(\"/\")[-1]).replace(\"/\",\"_\"))"
   ],
   "metadata": {
    "collapsed": false,
    "pycharm": {
     "name": "#%%\n"
    }
   }
  },
  {
   "cell_type": "code",
   "execution_count": 275,
   "outputs": [
    {
     "data": {
      "text/plain": "10957"
     },
     "execution_count": 275,
     "metadata": {},
     "output_type": "execute_result"
    }
   ],
   "source": [
    "sum = 0\n",
    "for spot_name in name_dict:\n",
    "    if spot_name in g_name_list:\n",
    "        sum += name_dict[spot_name]\n",
    "sum # total amount of suitable data"
   ],
   "metadata": {
    "collapsed": false,
    "pycharm": {
     "name": "#%%\n"
    }
   }
  },
  {
   "cell_type": "code",
   "execution_count": 278,
   "outputs": [
    {
     "name": "stderr",
     "output_type": "stream",
     "text": [
      "15335it [00:29, 517.61it/s]\n"
     ]
    }
   ],
   "source": [
    "import os\n",
    "f_path = \"/Users/fedor/Desktop/meta_project/data/metacritic/game_spot/spotgame_final\"\n",
    "old_path = \"/Users/fedor/Desktop/meta_project/data/metacritic/game_spot/spotgame_links\"\n",
    "COUNTER = 0\n",
    "t_name_dict = {}\n",
    "names = Path(old_path).glob('*')\n",
    "wrong_names = []\n",
    "for n in tqdm(names):\n",
    "    COUNTER +=  1\n",
    "    if COUNTER == 2311:\n",
    "        continue\n",
    "    with open(n,\"r\") as old_file:\n",
    "        template = json.load(old_file)\n",
    "        game_name = template[\"game_name\"].replace(\"/\",\"_\")\n",
    "        if game_name not in g_name_list:\n",
    "            continue\n",
    "\n",
    "        if game_name in t_name_dict:\n",
    "            t_name_dict[game_name] += 1\n",
    "        else:\n",
    "            t_name_dict[game_name] = 1\n",
    "\n",
    "        if game_name in g_name_list:\n",
    "            if not os.path.exists(f_path+\"/\"+game_name):\n",
    "                os.mkdir(f_path+\"/\"+game_name)\n",
    "\n",
    "            with open(f_path+\"/\"+game_name+\"/\"+str(t_name_dict[game_name])+\".json\",\"w\")as f:\n",
    "                json.dump(template, f)\n"
   ],
   "metadata": {
    "collapsed": false,
    "pycharm": {
     "name": "#%%\n"
    }
   }
  },
  {
   "cell_type": "code",
   "execution_count": null,
   "outputs": [],
   "source": [],
   "metadata": {
    "collapsed": false,
    "pycharm": {
     "name": "#%%\n"
    }
   }
  }
 ],
 "metadata": {
  "kernelspec": {
   "display_name": "Python 3",
   "language": "python",
   "name": "python3"
  },
  "language_info": {
   "codemirror_mode": {
    "name": "ipython",
    "version": 2
   },
   "file_extension": ".py",
   "mimetype": "text/x-python",
   "name": "python",
   "nbconvert_exporter": "python",
   "pygments_lexer": "ipython2",
   "version": "2.7.6"
  }
 },
 "nbformat": 4,
 "nbformat_minor": 0
}