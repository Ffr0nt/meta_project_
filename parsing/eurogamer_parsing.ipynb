{
 "cells": [
  {
   "cell_type": "code",
   "execution_count": 1,
   "metadata": {
    "collapsed": true,
    "pycharm": {
     "name": "#%%\n"
    }
   },
   "outputs": [],
   "source": [
    "import requests\n",
    "import json\n",
    "from bs4 import BeautifulSoup as bs\n",
    "from api.iterating_api import generator_over_review\n",
    "from api.parsers_api import headers, HTTP_error, parse_GameSpot\n",
    "from tqdm import tqdm"
   ]
  },
  {
   "cell_type": "code",
   "execution_count": 2,
   "outputs": [],
   "source": [
    "url_1 = \"https://www.eurogamer.net/archive/reviews\"\n",
    "url_3 =  \"https://www.eurogamer.net/archive/reviews?page=3\"\n",
    "url_2 = \"https://www.eurogamer.net/archive/reviews?page=277\"\n",
    "right_kickers_set = {\"Review |\", \"Recommended |\", \"Essential |\", \"Avoid |\"}"
   ],
   "metadata": {
    "collapsed": false,
    "pycharm": {
     "name": "#%%\n"
    }
   }
  },
  {
   "cell_type": "code",
   "execution_count": 3,
   "outputs": [
    {
     "data": {
      "text/plain": "309"
     },
     "execution_count": 3,
     "metadata": {},
     "output_type": "execute_result"
    }
   ],
   "source": [
    "first_list = [\"https://www.eurogamer.net/archive/reviews\"]\n",
    "\n",
    "for i in range(2,310):\n",
    "    first_list.append(\"https://www.eurogamer.net/archive/reviews?page=\"+str(i))\n",
    "\n",
    "len(first_list)"
   ],
   "metadata": {
    "collapsed": false,
    "pycharm": {
     "name": "#%%\n"
    }
   }
  },
  {
   "cell_type": "code",
   "execution_count": 4,
   "outputs": [],
   "source": [
    "game_urls = []"
   ],
   "metadata": {
    "collapsed": false,
    "pycharm": {
     "name": "#%%\n"
    }
   }
  },
  {
   "cell_type": "code",
   "execution_count": 5,
   "outputs": [
    {
     "name": "stderr",
     "output_type": "stream",
     "text": [
      "100%|██████████| 299/299 [03:01<00:00,  1.64it/s]\n"
     ]
    }
   ],
   "source": [
    "current_position = 10\n",
    "for url in tqdm(first_list[current_position:]):\n",
    "    r = requests.get(url, headers=headers, timeout=10)\n",
    "\n",
    "    # HTTP check (f.e. for 404 request status)\n",
    "    if not r.ok:\n",
    "        raise HTTP_error(r.status_code, r.url, \"Big error\")\n",
    "\n",
    "    # HTML code scrubbing start\n",
    "    soup = bs(r.text, \"html.parser\")\n",
    "    body = soup.find(class_=\"summary_list\")\n",
    "\n",
    "    summary_list = body.find_all(\"div\", class_=\"summary\")\n",
    "\n",
    "    for s in summary_list:\n",
    "        if s.find(class_=\"kicker\").text in right_kickers_set:\n",
    "            game_urls.append(s.find(class_=\"link_overlay\")[\"href\"])\n"
   ],
   "metadata": {
    "collapsed": false,
    "pycharm": {
     "name": "#%%\n"
    }
   }
  },
  {
   "cell_type": "code",
   "execution_count": 6,
   "outputs": [
    {
     "data": {
      "text/plain": "7202"
     },
     "execution_count": 6,
     "metadata": {},
     "output_type": "execute_result"
    }
   ],
   "source": [
    "len(set(game_urls))"
   ],
   "metadata": {
    "collapsed": false,
    "pycharm": {
     "name": "#%%\n"
    }
   }
  },
  {
   "cell_type": "code",
   "execution_count": null,
   "outputs": [],
   "source": [],
   "metadata": {
    "collapsed": false,
    "pycharm": {
     "name": "#%%\n"
    }
   }
  },
  {
   "cell_type": "code",
   "execution_count": 7,
   "outputs": [
    {
     "data": {
      "text/plain": "{'ref': 'https://www.eurogamer.net/tetris-effect-review-the-eternal-puzzler-reimagined-on-a-truly-cosmic-scale-3',\n 'date': '19 Mar 2021',\n 'game_name': 'Tetris Effect',\n 'text': 'Timeless, immediately compelling and utterly without mercy, Tetris has always been a game about what isn\\'t there - or rather a game about what isn\\'t there yet. It\\'s a game about the puzzle pieces you don\\'t currently have, and all the stupid stuff you get up to before they arrive. Tetris - the way I play it anyway, forever awaiting that long block - is the story of how you got so hopelessly drunk to fight off pre-party nerves that, once the actual party had started, you had to go home early - and on the way home you fell down an open manhole and broke your ankle. \\r\\nTo put it another way, Tetris, like Hokusai\\'s wave and the FedEx logo, is sort of a secret primer in the power of negative space: over the last 30 years of playing Tetris I have come to recognise the shapes I need to build, and understand that these shapes are, in fact, merely the inverse forms of the pieces I am desperate to receive from the drunken Tetris lords who hang out at the top of the eternal well. Testify! Now Tetris Effect is here, and as the name suggests it\\'s a game of Tetris that is simultaneously a game about Tetris. It\\'s a deep rumination on Tetris, as well as being a sort of Tetris Variations. It\\'s also the latest game from producer Tetsuya Mizuguchi, whose previous work includes lovely things like Rez and Lumines in which virtual space becomes light and sound, the two bound together so tightly that they are oddly inseparable. So Tetris Effect throws sound itself into the geometry of gaming\\'s most stark and fundamental puzzler. Levels slowly stitch themselves into songs and, like a bat watching the swift midnight world around them appearing through the flighty neon shimmers of echolocation, I suddenly see so much more of what normally isn\\'t there.For a game that you might suspect would be equally at home with gods or robots behind the controller, what\\'s so life-affirming about the audiovisual elements of Tetris Effect is how much they highlight the embattled human element. Every action in Tetris Effect has a sound-effect reaction. Every twist of a Tetrimino block, every change of lane, every hard- or soft-drop and every clear. What this means is that I can suddenly hear all the strange things I do when I play. Tetris Effect gives voice to my indecision, my uncertainty. In the end-game, it arpeggiates my horrific abuse of infinite spin. Mizuguchi has made a career of exploring synaesthesia, the merging of senses that aren\\'t traditionally directly connected in the central nervous system. For people with synaesthesia, days of the week might each hang at their own height above the bed on waking, or numbers might have their own colours. Games like Rez, like Lumines, give non-synaesthesiacs (that word is a punt, and it comes, again, with my apologies) a sense of the contours of this high-altitude state of being. But, and I never realised this until now, those games have to take you somewhere new in order to do it. Tetris Effect\\'s fearsome power emerges from the fact that it takes you back to a place you already know intimately, and then it switches synaesthesia on and lets it erupt around you and make the whole thing new again. Whales and mantas flicker and burst overhead, horses and riders made of tiny pieces of light rush through ghostly geometrical canyons, jewels form chains and the chains swing on a tinkling breeze. And even so, Tetris is still, gloriously, a game about what isn\\'t there yet. All this light and noise, all this quick-change artistry, and yet you still lean forward, peering through it, and playing five seconds into the hopeful future.There\\'s more, of course. If I was forced to describe Tetris Effect to you and I wasn\\'t allowed to mention the word synaesthesia - if we were talking over IM, for example, and I was unwilling to betray the fact that I cannot reliably spell synaesthesia without the help of a spell-checker - I would say that it fixes the only real problem Tetris has, which is that it isn\\'t more like Lumines.Hear me out. Tetris and Lumines are frequently linked in conversation because they are both games in which blocks fall and in which these blocks must be cleared by slotting them together - and as a result of this, they are also both games that play out across the rugged mesas of your own failures. But Tetris is a sprint and Lumines is a marathon. Tetris gets faster and faster on a smooth, airless curve that slides higher and higher until mortals like me simply can\\'t play anymore. This is efficient, but it\\'s never struck me as being entirely satisfying. At a certain speed, I\\'m not being undone by own mistakes. I\\'m being undone by the fact that I simply can\\'t respond to what\\'s coming at me in any meaningful way. I have been bleached out of the game.Lumines, though, varies the pace throughout, and in doing so creates an experience that you can play and play and play for the length of several charges of a Vita, if need be. This doesn\\'t mean that Lumines lacks challenge, though, because, as you play, the speed shifts around and strange, counterintuitive things happen. Sometimes it\\'s very slow. Sometimes it\\'s very fast and then very slow again. Interestingly, it can be fast and easy: lots of nice clears, the board being whittled down in snappy bursts of decision-making. And it can be slow and very challenging: so many blocks piling up, and then the timeline that clears them just iiiinnches along disastrously.Tetris Effect takes Lumines\\' dynamic sense of shifting speed - the playful tangling of Tetris\\' difficulty curve - and it takes Lumines\\' ever-changing skins that mean you\\'re playing at the bottom of the ocean one second and playing in the wilds of space the next. It takes all that and provides a campaign mode in which you can play Tetris for a really, really long time. The more you play, sure, the more the trend is generally towards quickness, but this is the pacing of a pop song or an album or a spin-cycle class. A single skin will have an easy section, maybe, and then a middle-eight of intense jerkishness. Then you burst through that and it slows down again. You survived. And then everything changes once more. Throughout all of this you are able to really think about what you\\'re doing and explore possible strategies in a way that traditional Tetris only allows for in bursts. This is open-range Tetris in a manner of speaking: your mind roams.I did not expect to encounter Tetris with a rangy feeling of any kind. And here\\'s something else I did not expect: I did not expect new private terminology for Tetris at this stage in my life. Maybe I should have. Tetris may have been excavated from maths in a perfect state, but it has never stopped evolving. Hold was added. Hard-drops and soft-drops. T-spins and infinite-spins. And now? Now I think of splits. You know, like in bowling.Step back a second. For the first five minutes of Tetris Effect the most startling new addition is the Zone. The Zone builds up through regular play. You clear lines in the classic Tetris manner, and eventually your Zone meter is reaching a happy kind of fullness so you trigger it to mix things up a bit. Welcome to the Zone! Time slows to a grainy crawl, you feel yourself leaning forward. Any lines you clear in the Zone will not disappear. Not quite. Rather, they will sort themselves to the bottom of the well where they will obligingly stack, and they will continue to stack for as long as the Zone runs. Then they\\'ll clear in one bewildering explosion. Octoris, Dodecratist, Ultimatris! The Zone allows for strange beasts that would otherwise belong to the more outré wilds of Tetris fan-fiction.It\\'s wonderful, and even better there is learning to be had. At first the Zone is there to get you out of trouble when things get too hectic and teetering. Over time, however, it is used with microsurgical precision, triggered once or twice in a level and sending your points \"through the roof\". Here\\'s the thing, though, as wonderful as the Zone is - and it\\'s so wonderful I\\'m quietly miffed I can\\'t go back and rename my first-born in its honour - I reckon the Zone is merely a tutorial of sorts. And what it\\'s teaching you about is combos.Combos have a history with Tetris, but Tetris Effect, thanks to the Zone, marks the first time I have properly been able to get my head around them. The idea is terrifying in a game, like Tetris, that is ultimately about the big longed-for pay-off of a Tetris-clear. To earn a combo you must clear a line at least with one Tetrimino block and then clear a line with the next too. And then the next, and the next and the next. Each block that falls must clear a line if you\\'re going to keep that combo going - and as soon as you know that the combo exists, who doesn\\'t want to keep it going? So yes, the combos are not new, but the Zone teaches you a perfect way of approaching them, with its rapid, shuffling clears.Regular play? Regular play feels like a waste now. I am haunted by combos, bedevilled by them. Combos whisper incessantly, prodding me towards over-reaching, towards filling the well with promising gaps, towards dancing on the brink of absolute disaster. When combos are growing, there\\'s nothing like them - I got a seven combo the other day which is probably no big deal for most people, yet I still texted a friend about it. But then I find a line with two gaps in it and the combo must end. A split. Like in bowling. And the combo is suddenly over, retreating back through the wall, laughing.Elsewhere, you\\'ll find that Tetris Effect has a lot of elsewhere. Outside of the campaign, there are a suite of Effect Modes that break the classic game into interesting variations. Some of them are strictly therapeutic: you can play games in which filling the well will not trigger the end, just as, once you complete the campaign, you unlock a mode that is basically just a musical toy to enjoy the different skins with. Onward! There are playlists of sympathetic skins. There are modes that offer clearance puzzles that come with a peculiar headshot satisfaction and modes that charge you with getting to grips with the combo system. But there are also elaborate pranks. There\\'s Mystery mode, in which the board might flip, in which bombs might go off, and in which you may even confront the blasphemy of differently shaped blocks to contend with. These cards, most of them bad but some of them good, are slid in and out of the action as you toil through a brutal Tetris migraine.Then there are target modes, one in which you have to take out a single block, one after the next, in a battle that encourages you to ignore the rest of the board and forget, as it were, about tomorrow. Another in which clots of infected blocks pop up over time and must be taken out en masse. Hitman and Resident Evil, rebuilt in Tetris, and then a mode in which you build and build around the ghostly shadow of a long block that will fall into the screen only when a timer has run out. All of these are wonderful - and they all, brilliantly, reprogramme you to play the game in subtly different ways which makes for havoc and wonderful misery as you flip back and forth between them. But they\\'re topped of with some classic takes on Tetris: an incredibly fast mode, a mode that asks you to clear just 40 Tetrimino blocks, a mode that asks you to maximise your score in three minutes, and one that asks you to maximise your score in 150 lines. These are where I have settled for the time being, playing and replaying, and using an outwardly therapeutic game to get very, very angry about everything.No multiplayer? No explicit multiplayer, certainly, and as anyone who\\'s played Puyo Puyo Tetris will know, that\\'s a bit of a shame. But Tetris Effect doesn\\'t feel like a solo affair when you\\'re scanning the online leaderboards to see who inched you out of the top spot overnight. If any game is likely to bring back the glory days of one-upmanship that defined something like Pacifist Mode in Geometry Wars 2, this is it.Thinking about it, perhaps I have not missed multiplayer because Tetris Effect is so clearly designed as a single-player experience, a game that longs to get inside your head but has decided, thankfully, not to use a drill. It is an enfolding kind of game: I emerge from play unable to navigate conversations, the colours around me too bright, people speaking too fast. The game seems to know this is the case, which is why it ejects you from even the most overwhelming game with the same kind of fail screen: your blocks, which now fill up the well, becomes weightless at the point of impact and then quietly drift upwards out of view. Breathe!This solo-effect is doubly powerful when you\\'re playing Tetris Effect in VR. To clarify: this game is a delight on a normal telly. But when you disappear into the public private theatre of the headset, it seems to grow exponentially in power. The Earth on the start screen? You\\'re suddenly suspended above it. And when the skins kick off they burst around you. The opening, undersea one has rocks on the seabed and, if you look up, a distant circle of watery light that marks the rippling surface of some glittering ocean. Elsewhere forests move in close, brownstones crowd you, and lights, everywhere the lights of one transition to the next. It is transporting in the way that only VR can transport you, and it works wonderfully with a game like Tetris, which has a long history of making the world outside the well iris out in your peripheral vision.One of the things that looms particularly large in VR is the campaign screen, which is spread across a vast image of Laniakea (the Hawaiian translates as something like \"immeasurable heaven\"), the supercluster that\\'s home to the Milky Way and around 100,000 other local galaxies. Not that I have counted them all. If you were pathologically concerned about your letters going missing, Laniakea is the final thing you would write on the envelope at the very bottom of the address. Ambiguity removed!It is strangely moving to see Laniakea up there on the campaign menu, its filaments shimmering in gold as the names of levels are spread across its vast arms: Ritual Passion, Spirit Canyon, Turtle Dream. (Tom Waits once observed that \"All the doughnuts have names that sound like prostitutes.\" Tetris Effect levels all sound like the kind of fake head shops set up by the DEA to get trade-in bongs safely off the streets.) Not many games could pull this off, could they? Not many games could justify having a supercluster - our supercluster! - as part of their UI.But in Tetris Effect it makes total sense. Tetris is a game for the ages, a game that has always felt like some form of universal constant that has been excavated as much as it was ever actively designed. Everywhere in the universe there is complex life to be found I reckon there will be Tetris sooner or later. I hope they get a game as good as Tetris Effect to truly do it justice.'}"
     },
     "execution_count": 7,
     "metadata": {},
     "output_type": "execute_result"
    }
   ],
   "source": [
    "def parse_EuroGamer(URL: str,\n",
    "                   save_path: str = \"\",\n",
    "                   json_save: bool = False\n",
    "                   ):\n",
    "    \"\"\"\n",
    "    Gets information about review about game on a page (name of game,\n",
    "    headline of article, text of review) and returns it as dict. Works only with that site!\n",
    "    IGN main page - https://www.gamespot.com\n",
    "    :param URL: str\n",
    "        page url\n",
    "    :param  save_path: str\n",
    "        Path to save data on json format\n",
    "    :return: None or dict\n",
    "        if dict - full of info (keys: name_review, ref, text)\n",
    "    \"\"\"\n",
    "\n",
    "    # get HTTP page by GET request\n",
    "    r = requests.get(URL, headers=headers, timeout=10)\n",
    "\n",
    "    # HTML code scrubbing start\n",
    "    soup = bs(r.text, \"html.parser\")\n",
    "    body = soup.find(class_=\"article_body_content\")\n",
    "\n",
    "    p_text_list = body.find_all(\"p\")\n",
    "\n",
    "    game_full_rewiev = \"\"\n",
    "    for p in p_text_list:\n",
    "        game_full_rewiev += p.text\n",
    "\n",
    "    if soup.find(class_=\"article_header\").find(class_=\"published_at\"):\n",
    "        game_date = soup.find(class_=\"article_header\").find(class_=\"published_at\").time.text\n",
    "\n",
    "    elif soup.find(class_=\"article_header\").find(class_=\"updated_at\"):\n",
    "        game_date = soup.find(class_=\"article_header\").find(class_=\"updated_at\").time.text\n",
    "\n",
    "    game_name = soup.find(class_=\"nav_breadcrumbs\").div.ul.find_all(\"li\")[-1].text.strip()\n",
    "\n",
    "    # HTML code scrubbing end\n",
    "\n",
    "    # Dictionary with data forming\n",
    "    data = {\n",
    "        'ref': URL,\n",
    "        'date': game_date,\n",
    "        'game_name': game_name,\n",
    "        'text': game_full_rewiev}\n",
    "\n",
    "    # Save dictionary as json or return\n",
    "    if json_save:\n",
    "        with open(save_path, 'w') as f:\n",
    "            json.dump(data, f)\n",
    "        return\n",
    "    else:\n",
    "        return data\n",
    "\n",
    "test_url ='https://www.eurogamer.net/thief2'\n",
    "parse_EuroGamer(game_urls[80],json_save = False, save_path=\"\" )"
   ],
   "metadata": {
    "collapsed": false,
    "pycharm": {
     "name": "#%%\n"
    }
   }
  },
  {
   "cell_type": "code",
   "execution_count": 10,
   "outputs": [
    {
     "data": {
      "text/plain": "7202"
     },
     "execution_count": 10,
     "metadata": {},
     "output_type": "execute_result"
    }
   ],
   "source": [
    "len(game_urls)"
   ],
   "metadata": {
    "collapsed": false,
    "pycharm": {
     "name": "#%%\n"
    }
   }
  },
  {
   "cell_type": "code",
   "execution_count": 8,
   "outputs": [],
   "source": [
    "wrong_list = []"
   ],
   "metadata": {
    "collapsed": false,
    "pycharm": {
     "name": "#%%\n"
    }
   }
  },
  {
   "cell_type": "code",
   "execution_count": 9,
   "outputs": [],
   "source": [
    "actual_position = 0"
   ],
   "metadata": {
    "collapsed": false,
    "pycharm": {
     "name": "#%%\n"
    }
   }
  },
  {
   "cell_type": "code",
   "execution_count": 11,
   "outputs": [
    {
     "name": "stderr",
     "output_type": "stream",
     "text": [
      "100%|██████████| 7202/7202 [1:13:14<00:00,  1.64it/s]\n"
     ]
    }
   ],
   "source": [
    "import time\n",
    "basic_root = \"/Users/fedor/Desktop/meta_project/data/EuroGamer/EuroGamer_final/\"\n",
    "for counter, url in  enumerate(tqdm(game_urls[actual_position:])):\n",
    "    try:\n",
    "        save_path = basic_root+ str(counter + actual_position)+\".json\"\n",
    "        parse_EuroGamer(url,json_save = True, save_path=save_path )\n",
    "\n",
    "    except requests.ConnectionError:\n",
    "        wrong_list.append(url)\n",
    "        time.sleep(3)\n",
    "    except ...:\n",
    "        wrong_list.append(url)\n",
    "        time.sleep(3)"
   ],
   "metadata": {
    "collapsed": false,
    "pycharm": {
     "name": "#%%\n"
    }
   }
  },
  {
   "cell_type": "code",
   "execution_count": 85,
   "outputs": [
    {
     "data": {
      "text/plain": "{'ref': 'https://www.eurogamer.net/super-mario-bros-movie-review-an-entertaining-advert-for-everything-nintendo',\n 'date': '5 Apr 2023',\n 'game_name': 'Reviews',\n 'text': '\\r\\nIt\\'s taken 30 years, but Nintendo finally has a Super Mario Bros. movie to please the masses. As a life-long Nintendo fan, I still can\\'t quite believe it exists - even seeing photos of Shigeru Miyamoto rubbing shoulders with Chris Pratt on the Hollywood red carpet this week felt like a bizarre collision of galaxies - and yet in this age of Sonic the Hedgehog film sequels and Mushroom Kingdom theme parks, it\\'s simultaneously odd it has taken this long. Here we are then, with 90 minutes of bright and breezy fare bringing Mario and the gang to the big screen in an adventure which is all-action and wafer-thin on plot - just like most Mario games! - albeit with a few tantalising hints at character development buried between the constant cameos and continual laughs.\\r\\n\\r\\nAside from those cameos, it\\'s almost impossible to spoil the Super Mario Bros. Movie\\'s story, such that it is. Mario is the everyman from New York, a do-good plumber with an extended pasta-eating Italian family and little brother Luigi who he\\'s always looked out for. The film spends longer than expected setting up Mario\\'s Brooklyn background (accompanied by a couple of nice voice cameos from original Mario voice actor Charles Martinet), though never dares sit still for too long. Amidst several plumbing and platforming action sequences, the movie finds time to smartly acknowledge Mario\\'s new Chris Pratt accent (which quickly settles on the ear) and hand-wave the practicalities of a plumber in pristine white gloves. Quickly, however, both brothers end up magically sucked into the Mushroom Kingdom, leaving them separated and placed on two very different paths.\\r\\n\\r\\nThe rest of the film plays out very much as you might expect, with the introduction of familiar faces like Princess Peach (a determined-sounding Anya Taylor-Joy), benevolent protector of the rather Minions-like Toads, here given enough agency to also be on her own quest: to save her realm from the invading Bowser. Joining them are Toad himself (an endearingly enthusiastic Keegan Michael-Key) and the swaggering Donkey Kong (literally just Seth Rogen). Luigi (Charlie Day) is left with a more minor role, though ultimately is given his moments to shine. The true star of the film though, by far, is the typically ebullient Jack Black as Bowser, who gets plenty of screen time as well as a family friendly Tenacious D-esque musical number, which perfectly encapsulates his comically menacing ambitions on power and expectations of Peach somehow becoming his bride. \\r\\n\\r\\nThe set-up of a sort-of love triangle between Mario, Peach and Bowser is the basis for some of the film\\'s few real character moments, as Mario and Peach become better acquainted and get a few chances to reflect together on their individual backgrounds. Somewhat frustratingly, though, any real relationship-building is often cut short by the film\\'s need to quickly cut to a gag for younger audiences, or what feels like a desire to save story threads for inevitable sequels. Of course, Mario games have never hinged on his home life, while Peach\\'s own family has only had the vaguest of hints - which, bar one intriguing tease, is also about all we get here. Yes, it would have felt too odd for the Mario movie to suddenly offer some kind of canon-changing revelation, or a \"we were all Mario all along\"-style third wall-break akin to The Lego Movie. But for vast stretches of this film, where the characters do talk and interact in a way that\\'s unlike most Mario games, little of substance is actually said, which is a shame. \\r\\n\\r\\nDespite all that, though, the Super Mario Bros. Movie still ultimately succeeds. What moments we are given with Mario and Luigi, both as brothers and together as part of their initially stern family, end up servicing a predictable if no-less-thrilling finale, and an entertaining third act that has largely not already been served up in trailers and sneak peeks. The Mushroom Kingdom has truly never looked any better thanks to the technical wizardry of Despicable Me creators Illumination, or sounded any finer thanks to gorgeous orchestral reimaginings from 30 years of Mario video game history, brought to life here once again by the legendary composer Koji Kondo. And while the plot may be thin, the laughs are pretty constant, with several brilliant turns by secondary characters such as Bowser\\'s masochistic sidekick Kamek, as well as the abruptly dark humour of the childlike Lumalee. \\r\\n\\r\\nIf you\\'ve played any Mario game (especially Mario Kart) in the past 30 years, you\\'ll feel the warm glow of familiarity from the film\\'s never-ending nods, references and Easter eggs to Nintendo lore - though, crucially, no prior knowledge ever felt necessary to understand what was happening on screen. Mostly I was surprised how well much of it transferred over as-is, including some smart side-scrolling action sequences and an explosive journey along Rainbow Road, plus some trickier-to-translate elements of Mario gameplay such as power-ups, which are kept largely accurate to their in-game selves.\\r\\n\\r\\nIt\\'s been over five years since Nintendo announced its initial partnership with Universal to recreate elements of the Mario franchise in its theme parks worldwide. And while I haven\\'t travelled to Universal Studios in Japan or Hollywood yet, watching the Super Mario Bros. Movie feels a little bit like I spent an hour or so there. It\\'s no coincidence that parts of this film\\'s Mushroom Kingdom look identical to the ones you can now travel to and wander around in real-life, nor that the movie\\'s second act takes place largely in the Kong Kingdom, the next theme park area to open in Japan in 2024. And yes, I left the film ready to ditch London\\'s grey streets and hop back into the Mushroom Kingdom myself in video game form. The Super Mario Bros. Movie is one massive advert for Nintendo\\'s mascot and for the company\\'s games in general - and a safe first step for what feels like a galaxy of sequels and spin-offs to follow. \\r\\n\\r\\nWe\\'ve come a long way from Bowser\\'s brief cameo in Wreck-It Ralph, when Nintendo famously gave notes on the correct way for Disney\\'s animators to show Bowser holding a teacup. Illumination\\'s version of this world, made hand-in-white-glove with Miyamoto himself, undoubtedly allows for more freedom - though, perhaps unusually for Miyamoto, steadfastly refuses to upset the tea table itself. Perhaps Nintendo\\'s caution is understandable, considering the last time Mario appeared on cinema screens. Three decades on, this film arrives as part of a vastly different era of Mario, albeit with Nintendo\\'s mascot as entertaining as ever.\\r\\n\\n'}"
     },
     "execution_count": 85,
     "metadata": {},
     "output_type": "execute_result"
    }
   ],
   "source": [
    "parse_EuroGamer(wrong_list[1000],json_save = False, save_path=\"\" )"
   ],
   "metadata": {
    "collapsed": false,
    "pycharm": {
     "name": "#%%\n"
    }
   }
  },
  {
   "cell_type": "code",
   "execution_count": null,
   "outputs": [],
   "source": [],
   "metadata": {
    "collapsed": false,
    "pycharm": {
     "name": "#%%\n"
    }
   }
  }
 ],
 "metadata": {
  "kernelspec": {
   "display_name": "Python 3",
   "language": "python",
   "name": "python3"
  },
  "language_info": {
   "codemirror_mode": {
    "name": "ipython",
    "version": 2
   },
   "file_extension": ".py",
   "mimetype": "text/x-python",
   "name": "python",
   "nbconvert_exporter": "python",
   "pygments_lexer": "ipython2",
   "version": "2.7.6"
  }
 },
 "nbformat": 4,
 "nbformat_minor": 0
}