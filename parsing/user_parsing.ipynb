{
 "cells": [
  {
   "cell_type": "code",
   "execution_count": 2,
   "outputs": [],
   "source": [
    "import requests\n",
    "from bs4 import BeautifulSoup as bs\n",
    "# import pandas as pd\n",
    "import json\n",
    "import tqdm\n",
    "from os import mkdir\n",
    "from os.path import join\n",
    "from shutil import rmtree"
   ],
   "metadata": {
    "collapsed": false,
    "pycharm": {
     "name": "#%%\n"
    }
   }
  },
  {
   "cell_type": "code",
   "execution_count": 3,
   "outputs": [],
   "source": [
    "basic_url = \"https://www.metacritic.com/browse/games/score/metascore/all/all/filtered?view=detailed\"\n",
    "\n",
    "typical_1 = \"https://www.metacritic.com/browse/games/score/metascore/all/all/filtered?view=detailed&page=1\"\n",
    "\n",
    "headers = {\n",
    "    'Accept-Encoding': 'gzip, deflate, sdch',\n",
    "    'Accept-Language': 'en-US,en;q=0.8',\n",
    "    'Upgrade-Insecure-Requests': '1',\n",
    "    'User-Agent': 'Mozilla/5.0 (X11; Linux x86_64) AppleWebKit/537.36 (KHTML, like Gecko) Chrome/56.0.2924.87 Safari/537.36',\n",
    "    'Accept': 'text/html,application/xhtml+xml,application/xml;q=0.9,image/webp,*/*;q=0.8',\n",
    "    'Cache-Control': 'max-age=0',\n",
    "    'Connection': 'keep-alive',\n",
    "}"
   ],
   "metadata": {
    "collapsed": false,
    "pycharm": {
     "name": "#%%\n"
    }
   }
  },
  {
   "cell_type": "code",
   "execution_count": 11,
   "outputs": [],
   "source": [
    "META_PREFICS = \"https://www.metacritic.com\"\n",
    "USER_POSTFICS = \"/user-reviews\"\n",
    "CRITIC_POSTFICS = \"/critic-reviews\""
   ],
   "metadata": {
    "collapsed": false,
    "pycharm": {
     "name": "#%%\n"
    }
   }
  },
  {
   "cell_type": "code",
   "execution_count": 4,
   "outputs": [],
   "source": [
    "SAVING_PATH =\"\"\n",
    "answ = []\n",
    "def parse_game_page(URL:str,\n",
    "                    page_count: int,\n",
    "                    local_save_path:str,\n",
    "                    json_save:bool = False):\n",
    "    \"\"\"\n",
    "    Gets information about all games on a page (name, comment ,score ,date) and\n",
    "    or saves it in json format in SAVING_PATH catalog, or returns it as dict.\n",
    "    :param URL: str - page url\n",
    "    :param page_count: int - counter to give proper names for json files\n",
    "    :param name: str - name of the game\n",
    "    :param json_save: bool - flag that points out to save in json or return as dict\n",
    "    :return: None or dict full of info (keys: name, comment ,score ,date)\n",
    "    \"\"\"\n",
    "\n",
    "    r = requests.get(URL, headers=headers)\n",
    "\n",
    "    soup = bs(r.text, \"html.parser\")\n",
    "    games_rewievs = soup.find_all(class_=\"review_content\")\n",
    "\n",
    "    rewiev_count = 0\n",
    "    for rewiev in games_rewievs:\n",
    "\n",
    "        # different structure means, that is not user review\n",
    "        if rewiev.find(class_=\"review_body\").span is None:\n",
    "            continue\n",
    "\n",
    "        text = rewiev.find(class_=\"review_body\").span.text\n",
    "        date = rewiev.find(class_=\"date\").text\n",
    "        score = rewiev.find(class_=\"review_grade\").div.text\n",
    "\n",
    "        if json_save:\n",
    "            with open( local_save_path +f\"/page{page_count}_comment{rewiev_count}.json\", 'w') as f:\n",
    "                json.dump({\"text of comment\": text, \"score\": score,\n",
    "                           \"date\": date}, f)\n",
    "        else:\n",
    "             return {\"text of comment\": text, \"score\": score,\n",
    "                     \"date\": date}\n",
    "\n",
    "        rewiev_count += 1\n"
   ],
   "metadata": {
    "collapsed": false,
    "pycharm": {
     "name": "#%%\n"
    }
   }
  },
  {
   "cell_type": "code",
   "execution_count": 52,
   "outputs": [],
   "source": [
    "def parse_main_page(URL, dict):\n",
    "    r = requests.get(URL, headers=headers)\n",
    "    soup = bs(r.text, \"html.parser\")\n",
    "    titels = soup.find_all(class_=\"clamp-summary-wrap\")\n",
    "    for title in titels:\n",
    "        name = title.find(\"a\", class_=\"title\").h3.text\n",
    "        ref = META_PREFICS + title.find(\"a\", class_=\"title\")['href'] + USER_POSRFICS\n",
    "        dict[name] = ref\n",
    "    return dict"
   ],
   "metadata": {
    "collapsed": false,
    "pycharm": {
     "name": "#%%\n"
    }
   }
  },
  {
   "cell_type": "markdown",
   "source": [],
   "metadata": {
    "collapsed": false,
    "pycharm": {
     "name": "#%% md\n"
    }
   }
  },
  {
   "cell_type": "code",
   "execution_count": 92,
   "outputs": [],
   "source": [
    "with open(\"/Users/fedor/Desktop/meta_project/data/metacritic/references.json\", \"r\") as read_file:\n",
    "    ref_dict = json.load(read_file)"
   ],
   "metadata": {
    "collapsed": false,
    "pycharm": {
     "name": "#%%\n"
    }
   }
  },
  {
   "cell_type": "code",
   "execution_count": 93,
   "outputs": [],
   "source": [
    "def scan_for_pages(dict, key):\n",
    "    r = requests.get( dict[key], headers=headers)\n",
    "    soup = bs(r.text, \"html.parser\")\n",
    "\n",
    "    inner_couner = 0\n",
    "    inner_couner = soup.find(class_ = \"page last_page\")\n",
    "    if inner_couner is None:\n",
    "        first_url = dict[key]\n",
    "        dict[key] = [first_url]\n",
    "        return dict\n",
    "\n",
    "    inner_couner =  inner_couner.a.text\n",
    "\n",
    "    first_url = dict[key]\n",
    "    dict[key] = [first_url]\n",
    "    for i in range(1,int(inner_couner)):\n",
    "        dict[key].append(first_url+\"?page=\"+str(i))\n",
    "        dict[key] = dict[key]\n",
    "    return dict\n"
   ],
   "metadata": {
    "collapsed": false,
    "pycharm": {
     "name": "#%%\n"
    }
   }
  },
  {
   "cell_type": "code",
   "execution_count": 3,
   "outputs": [],
   "source": [
    "with open(\"/Users/fedor/Desktop/meta_project/data/metacritic/all_references.json\", \"r\") as f:\n",
    "    ref_dict = json.load(f)"
   ],
   "metadata": {
    "collapsed": false,
    "pycharm": {
     "name": "#%%\n"
    }
   }
  },
  {
   "cell_type": "code",
   "execution_count": 25,
   "outputs": [
    {
     "data": {
      "text/plain": "['https://www.metacritic.com/game/playstation-3/bioshock/user-reviews',\n 'https://www.metacritic.com/game/playstation-3/bioshock/user-reviews?page=1']"
     },
     "execution_count": 25,
     "metadata": {},
     "output_type": "execute_result"
    }
   ],
   "source": [
    "ref_dict['BioShock']"
   ],
   "metadata": {
    "collapsed": false,
    "pycharm": {
     "name": "#%%\n"
    }
   }
  },
  {
   "cell_type": "code",
   "execution_count": 23,
   "outputs": [],
   "source": [
    "def final_parse(dict):\n",
    "    for game_name in tqdm.tqdm(list(dict.keys())[:20]):\n",
    "        mkdir(\"/Users/fedor/Desktop/meta_project/data/metacritic/user_review/\"+game_name)\n",
    "        page_count = 0\n",
    "        for game_link in dict[game_name]:\n",
    "            parse_game_page(game_link,\n",
    "                            page_count\n",
    "                            , \"/Users/fedor/Desktop/meta_project/data/metacritic/user_review/\"+game_name\n",
    "                            , True)\n",
    "            page_count += 1"
   ],
   "metadata": {
    "collapsed": false,
    "pycharm": {
     "name": "#%%\n"
    }
   }
  },
  {
   "cell_type": "code",
   "execution_count": null,
   "outputs": [],
   "source": [
    "def scan_for_pages(dict, key):\n",
    "    r = requests.get( dict[key], headers=headers)\n",
    "    soup = bs(r.text, \"html.parser\")\n",
    "\n",
    "    inner_couner = 0\n",
    "    inner_couner = soup.find(class_ = \"page last_page\")\n",
    "    if inner_couner is None:\n",
    "        first_url = dict[key]\n",
    "        dict[key] = [first_url]\n",
    "        return dict\n",
    "\n",
    "    inner_couner =  inner_couner.a.text\n",
    "\n",
    "    first_url = dict[key]\n",
    "    dict[key] = [first_url]\n",
    "    for i in range(1,int(inner_couner)):\n",
    "        dict[key].append(first_url+\"?page=\"+str(i))\n",
    "    return dict"
   ],
   "metadata": {
    "collapsed": false,
    "pycharm": {
     "name": "#%%\n"
    }
   }
  },
  {
   "cell_type": "code",
   "execution_count": 76,
   "outputs": [],
   "source": [
    "def scan_for_pages_by_url(URL):\n",
    "    r = requests.get( URL, headers=headers)\n",
    "    soup = bs(r.text, \"html.parser\")\n",
    "\n",
    "    inner_couner = 0\n",
    "    inner_couner = soup.find(class_ = \"page last_page\")\n",
    "    if inner_couner is None:\n",
    "        return [URL]\n",
    "\n",
    "    inner_couner =  inner_couner.a.text\n",
    "\n",
    "    answ = [URL]\n",
    "    for i in range(1,int(inner_couner)):\n",
    "        answ.append(URL+\"?page=\"+str(i))\n",
    "    return answ"
   ],
   "metadata": {
    "collapsed": false,
    "pycharm": {
     "name": "#%%\n"
    }
   }
  },
  {
   "cell_type": "code",
   "execution_count": 91,
   "outputs": [
    {
     "name": "stderr",
     "output_type": "stream",
     "text": [
      "100%|██████████| 1392/1392 [1:02:49<00:00,  2.71s/it]\n"
     ]
    }
   ],
   "source": [
    "final_ref =\n",
    "for game_name in tqdm.tqdm(list(ref_dict.keys())[3231+1840:6463]):\n",
    "    final_ref[game_name] = {}\n",
    "    first_link = ref_dict[game_name][0]\n",
    "    this_platform = first_link.split(\"/\")[4]\n",
    "    final_ref[game_name][this_platform] = ref_dict[game_name]\n",
    "\n",
    "    r = requests.get( first_link, headers=headers)\n",
    "    soup = bs(r.text, \"html.parser\")\n",
    "\n",
    "    platform_det = soup.find(class_ = \"summary_detail product_platforms\")\n",
    "    if platform_det is None:\n",
    "        continue\n",
    "\n",
    "    platforms = platform_det.find(class_ = \"data\").find_all(\"a\")\n",
    "    for p in platforms:\n",
    "        final_ref[game_name][p.text] = scan_for_pages_by_url(META_PREFICS + \"/\"+p[\"href\"]+USER_POSRFICS)\n"
   ],
   "metadata": {
    "collapsed": false,
    "pycharm": {
     "name": "#%%\n"
    }
   }
  },
  {
   "cell_type": "code",
   "execution_count": 99,
   "outputs": [
    {
     "name": "stderr",
     "output_type": "stream",
     "text": [
      "100%|██████████| 2556/2556 [1:24:38<00:00,  1.99s/it]\n"
     ]
    }
   ],
   "source": [
    "for game_name in tqdm.tqdm(list(ref_dict.keys())[6463+843+2489+576:]):\n",
    "    final_ref[game_name] = {}\n",
    "    first_link = ref_dict[game_name][0]\n",
    "    this_platform = first_link.split(\"/\")[4]\n",
    "    final_ref[game_name][this_platform] = ref_dict[game_name]\n",
    "\n",
    "    r = requests.get( first_link, headers=headers)\n",
    "    soup = bs(r.text, \"html.parser\")\n",
    "\n",
    "    platform_det = soup.find(class_ = \"summary_detail product_platforms\")\n",
    "    if platform_det is None:\n",
    "        continue\n",
    "\n",
    "    platforms = platform_det.find(class_ = \"data\").find_all(\"a\")\n",
    "    for p in platforms:\n",
    "        final_ref[game_name][p.text] = scan_for_pages_by_url(META_PREFICS + \"/\"+p[\"href\"]+USER_POSRFICS)"
   ],
   "metadata": {
    "collapsed": false,
    "pycharm": {
     "name": "#%%\n"
    }
   }
  },
  {
   "cell_type": "code",
   "execution_count": 9,
   "outputs": [
    {
     "name": "stderr",
     "output_type": "stream",
     "text": [
      "100%|██████████| 10224/10224 [8:27:14<00:00,  2.98s/it]   \n"
     ]
    }
   ],
   "source": [
    "actual_start_pos = 2652+51\n",
    "loc_path = \"/Users/fedor/Desktop/meta_project/data/metacritic/user_review/\"\n",
    "for game_name in tqdm.tqdm(list(final_ref.keys())[actual_start_pos : ]):\n",
    "    safe_game_name = game_name.replace(\"/\",\"_\")\n",
    "\n",
    "    if safe_game_name != game_name:\n",
    "        games_name_changed.append(game_name)\n",
    "\n",
    "    try:\n",
    "            mkdir( loc_path + safe_game_name )\n",
    "    except FileExistsError:\n",
    "        rmtree(join(loc_path + safe_game_name))\n",
    "        mkdir(loc_path + safe_game_name)\n",
    "\n",
    "\n",
    "    for platform in final_ref[game_name]:\n",
    "        if platform == \"iPhone/iPad\":\n",
    "            safe_platform = \"iPhone_iPad\"\n",
    "        else:\n",
    "            safe_platform = platform\n",
    "\n",
    "        mkdir(loc_path+safe_game_name+\"/\"+safe_platform)\n",
    "        page_count = 0\n",
    "\n",
    "        for game_link in final_ref[game_name][platform]:\n",
    "            parse_game_page(game_link\n",
    "                            ,page_count\n",
    "                            ,loc_path + safe_game_name + \"/\" + safe_platform\n",
    "                            , True)\n",
    "            page_count += 1"
   ],
   "metadata": {
    "collapsed": false,
    "pycharm": {
     "name": "#%%\n"
    }
   }
  },
  {
   "cell_type": "code",
   "execution_count": 5,
   "outputs": [
    {
     "data": {
      "text/plain": "12927"
     },
     "execution_count": 5,
     "metadata": {},
     "output_type": "execute_result"
    }
   ],
   "source": [
    "all_user_ref = {}\n",
    "with open('/Users/fedor/Desktop/meta_project/data/metacritic/url/critic_refs/final_user_refs.json') as f:\n",
    "    all_user_ref = json.load(f)\n",
    "len(all_user_ref)"
   ],
   "metadata": {
    "collapsed": false,
    "pycharm": {
     "name": "#%%\n"
    }
   }
  }
 ],
 "metadata": {
  "kernelspec": {
   "display_name": "Python 3",
   "language": "python",
   "name": "python3"
  },
  "language_info": {
   "codemirror_mode": {
    "name": "ipython",
    "version": 2
   },
   "file_extension": ".py",
   "mimetype": "text/x-python",
   "name": "python",
   "nbconvert_exporter": "python",
   "pygments_lexer": "ipython2",
   "version": "2.7.6"
  }
 },
 "nbformat": 4,
 "nbformat_minor": 0
}