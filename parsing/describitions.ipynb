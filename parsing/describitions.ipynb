{
 "cells": [
  {
   "cell_type": "code",
   "execution_count": 1,
   "metadata": {
    "collapsed": true,
    "pycharm": {
     "name": "#%%\n"
    }
   },
   "outputs": [],
   "source": [
    "import requests\n",
    "import json\n",
    "from bs4 import BeautifulSoup as bs\n",
    "from api.parsers_api import headers, HTTP_error, parse_GameSpot\n",
    "from tqdm import tqdm"
   ]
  },
  {
   "cell_type": "code",
   "execution_count": 185,
   "outputs": [],
   "source": [
    "url_0 = \"https://www.metacritic.com/game/nintendo-64/tony-hawks-pro-skater-2/details\""
   ],
   "metadata": {
    "collapsed": false,
    "pycharm": {
     "name": "#%%\n"
    }
   }
  },
  {
   "cell_type": "code",
   "execution_count": 195,
   "outputs": [
    {
     "name": "stdout",
     "output_type": "stream",
     "text": [
      "84 10\n",
      "8.6 54\n",
      "Aug 21, 2001 ['iPhone/iPad', 'PC', 'Nintendo 64']\n",
      "E None Edge of Reality ['Sports,', 'Alternative,', 'Skateboarding']\n"
     ]
    }
   ],
   "source": [
    "first_link = url_0\n",
    "r = requests.get( first_link, headers=headers)\n",
    "soup = bs(r.text, \"html.parser\")\n",
    "head = soup.find(class_=\"module product_data\")\n",
    "desc = head.find(class_=\"data\").text\n",
    "\n",
    "meta_score = head.find(itemprop=\"ratingValue\").text\n",
    "meta_count = head.find(class_=\"count\").a.span.text.strip()\n",
    "\n",
    "user_score = head.find(class_=\"details side_details\").find(class_=\"metascore_anchor\").div.text\n",
    "user_count = head.find(class_=\"details side_details\").find(class_=\"count\").a.text[:-8]\n",
    "\n",
    "data = soup.find(class_=\"summary_detail release_data\").find(class_=\"data\").text\n",
    "platforms = []\n",
    "\n",
    "p_span_platform = soup.find(class_=\"summary_detail product_platforms\")\n",
    "\n",
    "if  p_span_platform:\n",
    "    span_platforms = p_span_platform.find(class_=\"data\").find_all(\"a\")\n",
    "    for a_platform in span_platforms:\n",
    "        platforms.append(a_platform.text)\n",
    "\n",
    "#for platform of the page\n",
    "platforms.append(soup.find(class_ = \"product_title\").find(class_ = \"platform\").text.strip())\n",
    "\n",
    "table = soup.find(class_ = \"module product_data\").find_next_sibling()\n",
    "rating = None\n",
    "site = None\n",
    "developer = None\n",
    "genre = None\n",
    "if table:\n",
    "    continue\n",
    "\n",
    "\n",
    "list_tr = table.find_all(\"tr\")\n",
    "for row in list_tr:\n",
    "    # print(row.th.text[:-1], row.td.text)\n",
    "    if row.th.text[:-1] == \"Rating\":\n",
    "        rating = row.td.text\n",
    "    if row.th.text[:-1] == \"Official Site\":\n",
    "        site = row.a.text\n",
    "    if row.th.text[:-1] == \"Developer\":\n",
    "        developer = row.td.text\n",
    "    if row.th.text[:-1] == \"Genre(s)\":\n",
    "        genre = row.td.text.strip().split()\n",
    "\n",
    "print(meta_score,meta_count)\n",
    "print(user_score,user_count)\n",
    "print(data, platforms)\n",
    "print(rating,site, developer, genre)"
   ],
   "metadata": {
    "collapsed": false,
    "pycharm": {
     "name": "#%%\n"
    }
   }
  },
  {
   "cell_type": "code",
   "execution_count": 200,
   "outputs": [],
   "source": [
    "with open(\"/Users/fedor/Desktop/meta_project/data/доп/список_страниц_игр.json\", \"r\") as f:\n",
    "    URLS = json.load(f)"
   ],
   "metadata": {
    "collapsed": false,
    "pycharm": {
     "name": "#%%\n"
    }
   }
  },
  {
   "cell_type": "code",
   "execution_count": 246,
   "outputs": [],
   "source": [
    "actual_position = 48 + 104+8+1+376+31+6+2055+519"
   ],
   "metadata": {
    "collapsed": false,
    "pycharm": {
     "name": "#%%\n"
    }
   }
  },
  {
   "cell_type": "code",
   "execution_count": 247,
   "outputs": [
    {
     "name": "stderr",
     "output_type": "stream",
     "text": [
      "100%|██████████| 9976/9976 [3:09:46<00:00,  1.14s/it]  \n"
     ]
    }
   ],
   "source": [
    "count = 0\n",
    "for name in tqdm(list(URLS.keys())[actual_position:]):\n",
    "\n",
    "    link =  \"https://www.metacritic.com\" + URLS[name][:-15] + \"/details\"\n",
    "    # print(link)\n",
    "    r = requests.get( link, headers=headers)\n",
    "    if r.status_code != requests.codes.ok:\n",
    "        continue\n",
    "    soup = bs(r.text, \"html.parser\")\n",
    "    head = soup.find(class_=\"module product_data\")\n",
    "\n",
    "    meta_score = None\n",
    "    if head.find(itemprop=\"ratingValue\"):\n",
    "        meta_score = head.find(itemprop=\"ratingValue\").text\n",
    "\n",
    "    meta_count = None\n",
    "    if head.find(class_=\"count\").a.span:\n",
    "        meta_count = head.find(class_=\"count\").a.span.text.strip()\n",
    "\n",
    "    user_score = None\n",
    "    if head.find(class_=\"details side_details\").find(class_=\"metascore_anchor\"):\n",
    "        user_score = head.find(class_=\"details side_details\").find(class_=\"metascore_anchor\").div.text\n",
    "\n",
    "    user_count = None\n",
    "    if head.find(class_=\"details side_details\").find(class_=\"count\").a:\n",
    "        user_count = head.find(class_=\"details side_details\").find(class_=\"count\").a.text[:-8]\n",
    "\n",
    "    data = soup.find(class_=\"summary_detail release_data\").find(class_=\"data\").text\n",
    "    platforms = []\n",
    "\n",
    "    p_span_platform = soup.find(class_=\"summary_detail product_platforms\")\n",
    "\n",
    "    if  p_span_platform:\n",
    "        span_platforms = p_span_platform.find(class_=\"data\").find_all(\"a\")\n",
    "        for a_platform in span_platforms:\n",
    "            platforms.append(a_platform.text)\n",
    "\n",
    "    #for platform of the page\n",
    "    platforms.append(soup.find(class_ = \"product_title\").find(class_ = \"platform\").text.strip())\n",
    "\n",
    "    table = soup.find(class_ = \"module product_data\").find_next_sibling()\n",
    "\n",
    "    rating = None\n",
    "    site = None\n",
    "    developer = None\n",
    "    genre = None\n",
    "\n",
    "    list_tr = table.find_all(\"tr\")\n",
    "    for row in list_tr:\n",
    "        if row.th.text[:-1] == \"Rating\":\n",
    "            rating = row.td.text\n",
    "        if row.th.text[:-1] == \"Official Site\":\n",
    "            site = row.a.text\n",
    "        if row.th.text[:-1] == \"Developer\":\n",
    "            developer = row.td.text\n",
    "        if row.th.text[:-1] == \"Genre(s)\":\n",
    "            genre = row.td.text.strip().split()\n",
    "\n",
    "    # print(name)\n",
    "    # print(link)\n",
    "    # print(meta_score,meta_count)\n",
    "    # print(user_score,user_count)\n",
    "    # print(data, platforms)\n",
    "    # print(rating,site, developer, genre)\n",
    "    with open(\"/Users/fedor/Desktop/meta_project/data/описания/\"+str(count+actual_position)+\".json\", \"w\") as f:\n",
    "        json.dump({\n",
    "            \"name\": name,\n",
    "            \"URL\" : link,\n",
    "            \"meta_score\" : meta_score,\n",
    "            \"meta_count\":meta_count,\n",
    "            \"user_score\":user_score,\n",
    "            \"user_count\":user_count,\n",
    "            \"data\":data,\n",
    "            \"platforms\":platforms,\n",
    "            \"rating\":rating,\n",
    "            \"official_site\":site,\n",
    "            \"developer\":developer,\n",
    "            \"genre\":genre,\n",
    "        }, f)\n",
    "        count += 1\n",
    "    # break"
   ],
   "metadata": {
    "collapsed": false,
    "pycharm": {
     "name": "#%%\n"
    }
   }
  },
  {
   "cell_type": "code",
   "execution_count": 215,
   "outputs": [
    {
     "name": "stdout",
     "output_type": "stream",
     "text": [
      "/game/pc/madden-nfl-2003/critic-reviews\n"
     ]
    }
   ],
   "source": [
    "print(URLS[list(URLS.keys())[actual_position+1]])"
   ],
   "metadata": {
    "collapsed": false,
    "pycharm": {
     "name": "#%%\n"
    }
   }
  },
  {
   "cell_type": "code",
   "execution_count": 248,
   "outputs": [
    {
     "data": {
      "text/plain": "13124"
     },
     "execution_count": 248,
     "metadata": {},
     "output_type": "execute_result"
    }
   ],
   "source": [
    "len(URLS)"
   ],
   "metadata": {
    "collapsed": false,
    "pycharm": {
     "name": "#%%\n"
    }
   }
  },
  {
   "cell_type": "code",
   "execution_count": null,
   "outputs": [],
   "source": [],
   "metadata": {
    "collapsed": false,
    "pycharm": {
     "name": "#%%\n"
    }
   }
  }
 ],
 "metadata": {
  "kernelspec": {
   "display_name": "Python 3",
   "language": "python",
   "name": "python3"
  },
  "language_info": {
   "codemirror_mode": {
    "name": "ipython",
    "version": 2
   },
   "file_extension": ".py",
   "mimetype": "text/x-python",
   "name": "python",
   "nbconvert_exporter": "python",
   "pygments_lexer": "ipython2",
   "version": "2.7.6"
  }
 },
 "nbformat": 4,
 "nbformat_minor": 0
}