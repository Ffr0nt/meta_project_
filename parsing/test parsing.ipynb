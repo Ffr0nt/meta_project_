{
 "cells": [
  {
   "cell_type": "code",
   "execution_count": 20,
   "outputs": [],
   "source": [
    "import requests\n",
    "from bs4 import BeautifulSoup as bs\n",
    "# import pandas as pd\n",
    "import json"
   ],
   "metadata": {
    "collapsed": false,
    "pycharm": {
     "name": "#%%\n"
    }
   }
  },
  {
   "cell_type": "code",
   "execution_count": 24,
   "outputs": [],
   "source": [
    "json_path = \"/Users/fedor/Desktop/meta_project/stop_game\"\n",
    "def parse_stop_game_page(games_rewievs, page_count):\n",
    "    \"\"\"\n",
    "    Parses pages of StopGame.ru for comments of users. Gets name of the game, text of comment, score,\n",
    "    lists of pluses and minuses (it's special field on a site). Stores all data in .json format.\n",
    "    :param games_rewievs: list of bs4.element.Tag - list with HTML of pages\n",
    "    :param page_count: int - counter that helps to give a proper names\n",
    "    :return: page_count for future usage\n",
    "    \"\"\"\n",
    "    rewiev_count = 0\n",
    "    for i in range(len(games_rewievs)):\n",
    "        # name\n",
    "        name = games_rewievs[i].div.div.text\n",
    "        # text of comment\n",
    "        text = \"\"\n",
    "        for section in games_rewievs[i].div.find_all(\"p\"):\n",
    "            text += section.text.replace(\"&nbsp;\",\"\")\n",
    "\n",
    "        # score\n",
    "        int_part = len(games_rewievs[i].find(class_ = \"_stars_crdtt_100 _stars--big_crdtt_367\").div.find_all(href=\"#fa/star\"))\n",
    "\n",
    "        half = 0.5*len(games_rewievs[i].find(class_ = \"_stars_crdtt_100 _stars--big_crdtt_367\").div.find_all(href=\"#fa/star-half\"))\n",
    "        score = int_part + half\n",
    "\n",
    "        # pluses and minuses\n",
    "        pluses = []\n",
    "        minuses = []\n",
    "        for comment in games_rewievs[i].find_all(\"span\"):\n",
    "            if comment.find(href=\"#sg/plus-thin\") is not None:\n",
    "                pluses.append(comment.text)\n",
    "            if comment.find(href=\"#sg/minus-thin\") is not None:\n",
    "                minuses.append(comment.text)\n",
    "\n",
    "        # date\n",
    "        date = games_rewievs[i].find(class_=\"_info_crdtt_191\").span.text.replace(\"Сегодня\", \"03.02.23\").replace(\"Вчера\", \"02.02.23\")\n",
    "\n",
    "\n",
    "        with open(json_path+f\"/page{page_count}_comment{rewiev_count}.json\", 'w') as f:\n",
    "            json.dump({\"name\": name,\"text of comment\": text, \"score\": score,\n",
    "                       \"pluses\": pluses, \"minuses\": minuses, \"date\": date}, f)\n",
    "        rewiev_count += 1\n",
    "    page_count += 1\n",
    "    return page_count"
   ],
   "metadata": {
    "collapsed": false,
    "pycharm": {
     "name": "#%%\n"
    }
   }
  },
  {
   "cell_type": "code",
   "execution_count": 25,
   "outputs": [],
   "source": [
    "# first page have diffrent url\n",
    "page_count = 0\n",
    "URL_TEMPLATE = \"https://stopgame.ru/games/reviews\"\n",
    "r = requests.get(URL_TEMPLATE)\n",
    "soup = bs(r.text, \"html.parser\")\n",
    "games_rewievs = soup.find_all(class_=\"_content_crdtt_63\")\n",
    "page_count = parse_stop_game_page(games_rewievs, page_count)"
   ],
   "metadata": {
    "collapsed": false,
    "pycharm": {
     "name": "#%%\n"
    }
   }
  },
  {
   "cell_type": "code",
   "execution_count": 28,
   "outputs": [],
   "source": [
    "# url for other pages\n",
    "paths = []\n",
    "for i in range (2,115):\n",
    "    paths.append(URL_TEMPLATE+\"?page=\"+str(i))"
   ],
   "metadata": {
    "collapsed": false,
    "pycharm": {
     "name": "#%%\n"
    }
   }
  },
  {
   "cell_type": "code",
   "execution_count": 29,
   "outputs": [],
   "source": [
    "# main loop\n",
    "page_count = 1\n",
    "for url in paths:\n",
    "    r = requests.get(url)\n",
    "    soup = bs(r.text, \"html.parser\")\n",
    "    games_rewievs = soup.find_all(class_=\"_content_crdtt_63\")\n",
    "    page_count = parse_stop_game_page(games_rewievs, page_count)"
   ],
   "metadata": {
    "collapsed": false,
    "pycharm": {
     "name": "#%%\n"
    }
   }
  },
  {
   "cell_type": "code",
   "execution_count": 30,
   "outputs": [
    {
     "data": {
      "text/plain": "{'name': 'Resident Evil 2 Remake',\n 'text of comment': '\\xa0 \\xa0 \\xa0 Мой компьютер говорит мне: \"Дай глотнуть воздуха, я минималку еле держу\". Однако эти сопли я вытираю достаточно быстро и уже с двумя полигонами я иду убивать не только зомбей, как Вы уже понимаете.Писать про саму игру нет абсолютно никакого смысла. Все знают, что 2018 год задал эталон всем ремейкам, представив данную игру.Хотелось бы сделать пару независимых от оценок придирок к уровню сложности игры. Мне показалось, что не хватило 4-го уровня сложности \"Реализм\", где ходячий Джентельмен в любом случае догонял бы протагониста, а предметы поменялись местами куда хаотичней, при дополнительном сокращении подсумков на 8, а не на 4.Дополнения все идеальны, по канону. Многие умудряются сопротивляться идее выучивания алгоритма правильного прохождения, но, очевидно, им не дано понять, что в этом весь смысл.\\xa0Таким образом, игра MUST HAVE получает от меня все свои 10/10\\xa0\\xa0',\n 'score': 5.0,\n 'pluses': ['Эталон любого ремейка'],\n 'minuses': ['Недостаточная скорость ходьбы тирана'],\n 'date': '14 ноября 2022, 14:02'}"
     },
     "execution_count": 30,
     "metadata": {},
     "output_type": "execute_result"
    }
   ],
   "source": [
    "# check\n",
    "with open('/Users/fedor/Desktop/meta_project/stop_game/page112_comment8.json') as f:\n",
    "    templates = json.load(f)\n",
    "templates"
   ],
   "metadata": {
    "collapsed": false,
    "pycharm": {
     "name": "#%%\n"
    }
   }
  },
  {
   "cell_type": "code",
   "execution_count": null,
   "outputs": [],
   "source": [
    "# просмотр всех файлов в папке\n",
    "from pathlib import Path\n",
    "game_count = 0\n",
    "r_count = 0\n",
    "\n",
    "# assign directory\n",
    "directory = \"/Users/fedor/Desktop/meta_project/data/metacritic/user_review\"\n",
    "\n",
    "\n",
    "# iterate over files in\n",
    "# that directory\n",
    "names = Path(directory).glob('*')\n",
    "for n in names:\n",
    "    platforms = Path(n).glob('*')\n",
    "    game_count += 1\n",
    "    for p in platforms:\n",
    "        rev = Path(p).glob('*')\n",
    "        for _ in rev:\n",
    "            r_count += 1\n",
    "game_count, r_count"
   ],
   "metadata": {
    "collapsed": false,
    "pycharm": {
     "name": "#%%\n"
    }
   }
  }
 ],
 "metadata": {
  "kernelspec": {
   "display_name": "Python 3",
   "language": "python",
   "name": "python3"
  },
  "language_info": {
   "codemirror_mode": {
    "name": "ipython",
    "version": 2
   },
   "file_extension": ".py",
   "mimetype": "text/x-python",
   "name": "python",
   "nbconvert_exporter": "python",
   "pygments_lexer": "ipython2",
   "version": "2.7.6"
  }
 },
 "nbformat": 4,
 "nbformat_minor": 0
}