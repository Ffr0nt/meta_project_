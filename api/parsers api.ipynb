{
 "cells": [
  {
   "cell_type": "code",
   "execution_count": 1,
   "metadata": {
    "collapsed": true,
    "pycharm": {
     "name": "#%%\n"
    }
   },
   "outputs": [],
   "source": [
    "import requests\n",
    "import json\n",
    "from bs4 import BeautifulSoup as bs"
   ]
  },
  {
   "cell_type": "code",
   "execution_count": 2,
   "outputs": [],
   "source": [
    "URL = \"http://www.ign.com/articles/2019/01/24/kingdom-hearts-3-review-ps4-xbox-one\"\n",
    "\n",
    "headers = {\n",
    "    'Accept-Encoding': 'gzip, deflate, sdch',\n",
    "    'Accept-Language': 'en-US,en;q=0.8',\n",
    "    'Upgrade-Insecure-Requests': '1',\n",
    "    'User-Agent': 'Mozilla/5.0 (X11; Linux x86_64) AppleWebKit/537.36 (KHTML, like Gecko) Chrome/56.0.2924.87 Safari/537.36',\n",
    "    'Accept': 'text/html,application/xhtml+xml,application/xml;q=0.9,image/webp,*/*;q=0.8',\n",
    "    'Cache-Control': 'max-age=0',\n",
    "    'Connection': 'keep-alive',\n",
    "}"
   ],
   "metadata": {
    "collapsed": false,
    "pycharm": {
     "name": "#%%\n"
    }
   }
  },
  {
   "cell_type": "code",
   "execution_count": 3,
   "outputs": [],
   "source": [
    "def HTTP_error_handler(r):\n",
    "    ...\n",
    "    return"
   ],
   "metadata": {
    "collapsed": false,
    "pycharm": {
     "name": "#%%\n"
    }
   }
  },
  {
   "cell_type": "code",
   "execution_count": null,
   "outputs": [],
   "source": [
    "def parse_IGN(URL: str,\n",
    "              save_path: str,\n",
    "              json_save: bool = False\n",
    "              ):\n",
    "    \"\"\"\n",
    "    Gets information about review about game on a page (name of game,\n",
    "    headline of article, text of review) and returns it as dict. Works only with IGN!\n",
    "    IGN main page - https://www.ign.com/\n",
    "    :param URL: str\n",
    "        page url\n",
    "    :param  save_path: str\n",
    "        Path to save data on json format\n",
    "    :return: None or dict\n",
    "        if dict - full of info (keys: name, name_review, ref, text)\n",
    "    \"\"\"\n",
    "\n",
    "    # get HTTP page by GET request\n",
    "    r = requests.get(URL, headers=headers)\n",
    "\n",
    "    # HTTP error handler (f.e. for 404 request status)\n",
    "    HTTP_error_handler(r)\n",
    "\n",
    "\n",
    "    # HTML code scrubbing start\n",
    "    soup = bs(r.text, \"html.parser\")\n",
    "    game_header = soup.find(class_=\"display-title jsx-4038437347\")\n",
    "\n",
    "    games_rewievs = soup.find(class_=\"article-page\")\n",
    "    games_verdict = soup.find(class_=\"jsx-3103488995 article-section\")\n",
    "    # HTML code scrubbing end\n",
    "\n",
    "\n",
    "    # Dictionary with data forming\n",
    "    game_full_rewiev = games_rewievs.text + games_verdict.text\n",
    "    data = {'name_review': game_header.text,\n",
    "            'ref': URL,\n",
    "            'date':0,\n",
    "            'text': game_full_rewiev}\n",
    "\n",
    "    # Save dictionary as json or return\n",
    "    if json_save:\n",
    "        with open(save_path, 'w') as f:\n",
    "            json.dump(data)\n",
    "        return\n",
    "    else:\n",
    "        return data"
   ],
   "metadata": {
    "collapsed": false,
    "pycharm": {
     "name": "#%%\n"
    }
   }
  },
  {
   "cell_type": "code",
   "execution_count": null,
   "outputs": [],
   "source": [],
   "metadata": {
    "collapsed": false,
    "pycharm": {
     "name": "#%%\n"
    }
   }
  }
 ],
 "metadata": {
  "kernelspec": {
   "display_name": "Python 3",
   "language": "python",
   "name": "python3"
  },
  "language_info": {
   "codemirror_mode": {
    "name": "ipython",
    "version": 2
   },
   "file_extension": ".py",
   "mimetype": "text/x-python",
   "name": "python",
   "nbconvert_exporter": "python",
   "pygments_lexer": "ipython2",
   "version": "2.7.6"
  }
 },
 "nbformat": 4,
 "nbformat_minor": 0
}