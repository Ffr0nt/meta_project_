{
 "cells": [
  {
   "cell_type": "code",
   "execution_count": 2,
   "metadata": {
    "collapsed": true,
    "pycharm": {
     "name": "#%%\n"
    }
   },
   "outputs": [],
   "source": [
    "from pathlib import Path\n",
    "import tqdm\n",
    "import json\n",
    "from collections.abc import Callable"
   ]
  },
  {
   "cell_type": "code",
   "execution_count": 90,
   "outputs": [
    {
     "data": {
      "text/plain": "22"
     },
     "execution_count": 90,
     "metadata": {},
     "output_type": "execute_result"
    }
   ],
   "source": [
    "def default_true_predicate(dict):\n",
    "    return True\n",
    "\n",
    "def generator_over_review(\n",
    "        path_folder: str,\n",
    "        review_predicate: Callable[[dict],bool] = default_true_predicate,\n",
    "        game_search_list:list[str] = [],\n",
    "        platform_search_list:list[str] = [],\n",
    "        add_info: bool = False\n",
    "):\n",
    "    \"\"\"\n",
    "    Returns a generator, that iterates over game reviews.\n",
    "    =====================================================\n",
    "    :param path_folder: str\n",
    "        Path to the outer folder (critic_reviews)\n",
    "    :param review_predicate: Callable[[dict],bool]\n",
    "        Predicate that terminate what review you need to iterate over.\n",
    "        Default option returns True value always.\n",
    "    :param game_search_list:\n",
    "        List of games that you need to iterate over.\n",
    "    :param platform_search_list:\n",
    "        List of platforms that you need to iterate over.\n",
    "    :param add_info:\n",
    "        Terminates if only text of review is returned (if false),\n",
    "        or additional info is required (if true). In that case, will return\n",
    "        (   text_of_review ,\n",
    "            {\"belongings\":\n",
    "            (name, platform, review_name),\n",
    "             \"path\": absolute_path}\n",
    "        )\n",
    "    :return:\n",
    "        Generator\n",
    "    \"\"\"\n",
    "    names = Path(path_folder).glob('*')\n",
    "    for n in names:\n",
    "        if not( not game_search_list or n.name in game_search_list ):\n",
    "            continue\n",
    "\n",
    "        platforms = Path(n).glob('*')\n",
    "\n",
    "\n",
    "        for p in platforms:\n",
    "            if not( not platform_search_list or p.name in platform_search_list ):\n",
    "                continue\n",
    "\n",
    "            reviews = Path(p).glob('*')\n",
    "            for rev in reviews:\n",
    "\n",
    "                with open(rev) as f:\n",
    "                    templates = json.load(f)\n",
    "                    if review_predicate(templates):\n",
    "                        if add_info:\n",
    "                            yield  templates,{\"belongings\": (n.name, p.name, rev.name),\n",
    "                                              \"path\": str(rev)}\n",
    "                        else:\n",
    "                            yield  templates\n",
    "\n",
    "\n",
    "url = \"/Users/fedor/Desktop/meta_project/data/metacritic/critic_review\"\n",
    "def my_predicate(dict):\n",
    "    return dict[\"name\"] == \"IGN\"\n",
    "\n",
    "a = generator_over_review(url, game_search_list=['INSIDE'],\n",
    "                          platform_search_list=[\"pc\"],add_info=True)\n",
    "count = 0\n",
    "for a_ in a:\n",
    "    # print(a_)\n",
    "    count +=1\n",
    "count"
   ],
   "metadata": {
    "collapsed": false,
    "pycharm": {
     "name": "#%%\n"
    }
   }
  },
  {
   "cell_type": "code",
   "execution_count": 36,
   "outputs": [
    {
     "data": {
      "text/plain": "0"
     },
     "execution_count": 36,
     "metadata": {},
     "output_type": "execute_result"
    }
   ],
   "source": [
    "count"
   ],
   "metadata": {
    "collapsed": false,
    "pycharm": {
     "name": "#%%\n"
    }
   }
  },
  {
   "cell_type": "code",
   "execution_count": null,
   "outputs": [],
   "source": [
    "<generator object Path.glob at 0x7ff57d7611c0>\n"
   ],
   "metadata": {
    "collapsed": false,
    "pycharm": {
     "name": "#%%\n"
    }
   }
  }
 ],
 "metadata": {
  "kernelspec": {
   "display_name": "Python 3",
   "language": "python",
   "name": "python3"
  },
  "language_info": {
   "codemirror_mode": {
    "name": "ipython",
    "version": 2
   },
   "file_extension": ".py",
   "mimetype": "text/x-python",
   "name": "python",
   "nbconvert_exporter": "python",
   "pygments_lexer": "ipython2",
   "version": "2.7.6"
  }
 },
 "nbformat": 4,
 "nbformat_minor": 0
}